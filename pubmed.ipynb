{
 "cells": [
  {
   "cell_type": "code",
   "execution_count": 45,
   "metadata": {},
   "outputs": [],
   "source": [
    "from transformers import AutoModelForCausalLM, AutoTokenizer\n",
    "import torch\n",
    "import torch.nn.functional as F"
   ]
  },
  {
   "cell_type": "code",
   "execution_count": 3,
   "metadata": {},
   "outputs": [],
   "source": [
    "model = AutoModelForCausalLM.from_pretrained(\"microsoft/BioGPT-Large-PubMedQA\")\n",
    "tokenizer = AutoTokenizer.from_pretrained(\"microsoft/BioGPT-Large-PubMedQA\")"
   ]
  },
  {
   "cell_type": "code",
   "execution_count": 64,
   "metadata": {},
   "outputs": [],
   "source": [
    "context = (\n",
    "    \"Sternal fractures in childhood are rare. The aim of the study was to investigate the accident mechanism, the detection of radiological and sonographical criteria and consideration of associated injuries.In the period from January 2010 to December 2012 all inpatients and outpatients with sternal fractures were recorded according to the documentation.A total of 4 children aged 5-14\\u00a0years with a sternal fracture were treated in 2\\u00a0years, 2\\u00a0children were hospitalized for pain management and 2 remained in outpatient care.\"\n",
    ")\n",
    "question = \"Sternal fracture in growing elderly: A rare and often overlooked fracture?\"\n",
    "\n",
    "# following the prompt format in the paper, link: https://arxiv.org/pdf/2210.10341\n",
    "prompt = f\"question: {question} the answer to the question is\""
   ]
  },
  {
   "cell_type": "code",
   "execution_count": 65,
   "metadata": {},
   "outputs": [
    {
     "name": "stdout",
     "output_type": "stream",
     "text": [
      "Yes Probability: 0.6789\n",
      "No Probability: 0.3209\n",
      "Maybe Probability: 0.0002\n"
     ]
    }
   ],
   "source": [
    "inputs = tokenizer(prompt, return_tensors=\"pt\", padding=True, truncation=True)\n",
    "# Forward pass to get the logits\n",
    "with torch.no_grad():\n",
    "    outputs = model(input_ids=inputs[\"input_ids\"], attention_mask=inputs[\"attention_mask\"])\n",
    "\n",
    "# Extract logits at the last position (where answer starts)\n",
    "logits = outputs.logits[0, -1, :]  # Shape: [vocab_size]\n",
    "\n",
    "# Get token IDs for \"Yes\", \"No\", and \"Maybe\"\n",
    "yes_token_id = tokenizer(\" Yes\", add_special_tokens=False)[\"input_ids\"][0]\n",
    "no_token_id = tokenizer(\" No\", add_special_tokens=False)[\"input_ids\"][0]\n",
    "maybe_token_id = tokenizer(\" Maybe\", add_special_tokens=False)[\"input_ids\"][0]\n",
    "\n",
    "# Extract logits for the specific tokens\n",
    "answer_logits = logits[[yes_token_id, no_token_id, maybe_token_id]]\n",
    "answer_labels = [\"Yes\", \"No\", \"Maybe\"]\n",
    "\n",
    "# Convert logits to probabilities\n",
    "answer_probs = F.softmax(answer_logits, dim=0)\n",
    "\n",
    "# Print probabilities\n",
    "for label, prob in zip(answer_labels, answer_probs):\n",
    "    print(f\"{label} Probability: {prob.item():.4f}\")"
   ]
  },
  {
   "cell_type": "code",
   "execution_count": null,
   "metadata": {},
   "outputs": [],
   "source": []
  }
 ],
 "metadata": {
  "kernelspec": {
   "display_name": "ENV",
   "language": "python",
   "name": "python3"
  },
  "language_info": {
   "codemirror_mode": {
    "name": "ipython",
    "version": 3
   },
   "file_extension": ".py",
   "mimetype": "text/x-python",
   "name": "python",
   "nbconvert_exporter": "python",
   "pygments_lexer": "ipython3",
   "version": "3.10.12"
  }
 },
 "nbformat": 4,
 "nbformat_minor": 2
}
