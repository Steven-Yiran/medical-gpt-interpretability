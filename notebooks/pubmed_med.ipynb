{
 "cells": [
  {
   "cell_type": "code",
   "execution_count": 1,
   "metadata": {},
   "outputs": [],
   "source": [
    "import sys\n",
    "sys.path.append('..')"
   ]
  },
  {
   "cell_type": "code",
   "execution_count": 46,
   "metadata": {},
   "outputs": [],
   "source": [
    "import matplotlib.pyplot as plt\n",
    "from transformers import AutoModelForCausalLM, AutoTokenizer\n",
    "import torch\n",
    "import torch.nn.functional as F\n",
    "import json\n",
    "import random\n",
    "import copy\n",
    "\n",
    "from dsets import ClinicalDiseaseDataset"
   ]
  },
  {
   "cell_type": "code",
   "execution_count": 3,
   "metadata": {},
   "outputs": [],
   "source": [
    "model = AutoModelForCausalLM.from_pretrained(\"microsoft/BioGPT-Large-PubMedQA\")\n",
    "tokenizer = AutoTokenizer.from_pretrained(\"microsoft/BioGPT-Large-PubMedQA\")"
   ]
  },
  {
   "cell_type": "code",
   "execution_count": 71,
   "metadata": {},
   "outputs": [
    {
     "name": "stdout",
     "output_type": "stream",
     "text": [
      "Loaded dataset with 10 samples\n"
     ]
    }
   ],
   "source": [
    "dataset = ClinicalDiseaseDataset('../data', with_context=True)\n",
    "replacement_subjects = json.load(open('../data/disease_keywords.json'))"
   ]
  },
  {
   "cell_type": "code",
   "execution_count": 72,
   "metadata": {},
   "outputs": [
    {
     "data": {
      "text/plain": [
       "{'id': 0,\n",
       " 'subject': 'amblyopia',\n",
       " 'attribute': 'no',\n",
       " 'question': 'landolt c and snellen e acuity: differences in strabismus amblyopia?',\n",
       " 'context': 'assessment of visual acuity depends on the optotypes used for measurement. the ability to recognize different optotypes differs even if their critical details appear under the same visual angle. since optotypes are evaluated on individuals with good visual acuity and without eye disorders, differences in the lower visual acuity range cannot be excluded. in this study, visual acuity measured with the snellen e was compared to the landolt c acuity.100 patients (age 8 - 90 years, median 60.5 years) with various eye disorders, among them 39 with amblyopia due to strabismus, and 13 healthy volunteers were tested. charts with the snellen e and the landolt c (precision vision) which mimic the etdrs charts were used to assess visual acuity. three out of 5 optotypes per line had to be correctly identified, while wrong answers were monitored. in the group of patients, the eyes with the lower visual acuity, and the right eyes of the healthy subjects, were evaluated.differences between landolt c acuity (lr) and snellen e acuity (se) were small. the mean decimal values for lr and se were 0.25 and 0.29 in the entire group and 0.14 and 0.16 for the eyes with strabismus amblyopia. the mean difference between lr and se was 0.55 lines in the entire group and 0.55 lines for the eyes with strabismus amblyopia, with higher values of se in both groups. the results of the other groups were similar with only small differences between lr and se.',\n",
       " 'original_id': '16418930',\n",
       " 'prompt': 'Question: landolt c and snellen e acuity: differences in strabismus amblyopia? the answer to the question is'}"
      ]
     },
     "execution_count": 72,
     "metadata": {},
     "output_type": "execute_result"
    }
   ],
   "source": [
    "dataset[0]"
   ]
  },
  {
   "cell_type": "code",
   "execution_count": 40,
   "metadata": {},
   "outputs": [],
   "source": [
    "def get_answer_prob(prompt, answer):\n",
    "    inputs = tokenizer(prompt, return_tensors=\"pt\", padding=True, truncation=True)\n",
    "    # Forward pass to get the logits\n",
    "    with torch.no_grad():\n",
    "        outputs = model(input_ids=inputs[\"input_ids\"], attention_mask=inputs[\"attention_mask\"])\n",
    "\n",
    "    # Extract logits at the last position (where answer starts)\n",
    "    logits = outputs.logits[0, -1, :]  # Shape: [vocab_size]\n",
    "\n",
    "    # Get token IDs for \"Yes\", \"No\", and \"Maybe\"\n",
    "    yes_token_id = tokenizer(\" Yes\", add_special_tokens=False)[\"input_ids\"][0]\n",
    "    no_token_id = tokenizer(\" No\", add_special_tokens=False)[\"input_ids\"][0]\n",
    "    maybe_token_id = tokenizer(\" Maybe\", add_special_tokens=False)[\"input_ids\"][0]\n",
    "\n",
    "    # Extract logits for the specific tokens\n",
    "    answer_logits = logits[[yes_token_id, no_token_id, maybe_token_id]]\n",
    "\n",
    "    # Convert logits to probabilities\n",
    "    answer_probs = F.softmax(answer_logits, dim=0)\n",
    "\n",
    "    if answer == 'yes':\n",
    "        return answer_probs[0].item()\n",
    "    elif answer == 'no':\n",
    "        return answer_probs[1].item()\n",
    "    elif answer == 'maybe':\n",
    "        return answer_probs[2].item()\n",
    "    "
   ]
  },
  {
   "cell_type": "code",
   "execution_count": 73,
   "metadata": {},
   "outputs": [],
   "source": [
    "def make_corrupt_prompt(data):\n",
    "    clean_prompt = data['prompt']\n",
    "    subject = data['subject']\n",
    "\n",
    "    new_subject = random.choice(replacement_subjects)\n",
    "    while new_subject == subject:\n",
    "        new_subject = random.choice(replacement_subjects)\n",
    "    print('original subject:', subject)\n",
    "    print('new subject:', new_subject)\n",
    "    corrupt_prompt = clean_prompt.replace(subject, new_subject)\n",
    "    return corrupt_prompt"
   ]
  },
  {
   "cell_type": "code",
   "execution_count": 74,
   "metadata": {},
   "outputs": [
    {
     "name": "stdout",
     "output_type": "stream",
     "text": [
      "original subject: a\n",
      "new subject: sleep and energy\n",
      "original subject: Hirschsprung Disease\n",
      "new subject: convulsion\n",
      "original subject: intestinal diseases\n",
      "new subject: lymphoma\n",
      "original subject: sleep disorders\n",
      "new subject: coronary heart disease\n",
      "original subject: high-density lipoprotein\n",
      "new subject: intestinal diseases\n",
      "original subject: asthma\n",
      "new subject: leukemia\n",
      "original subject: family history\n",
      "new subject: risk\n",
      "original subject: neoplasms\n",
      "new subject: sleep-related problems\n",
      "original subject: cardiovascular diseases\n",
      "new subject: breathlessness\n",
      "original subject: leukemia\n",
      "new subject: family history\n"
     ]
    }
   ],
   "source": [
    "prob_diffs = []\n",
    "for i in range(len(dataset)):\n",
    "    data = dataset[i]\n",
    "    clean_prompt = data['prompt']\n",
    "    clean_prob = get_answer_prob(clean_prompt, data['attribute'])\n",
    "\n",
    "    corrupted_prompt = make_corrupt_prompt(data)\n",
    "    corrupted_prob = get_answer_prob(corrupted_prompt, data['attribute'])\n",
    "\n",
    "    prob_diffs.append(clean_prob - corrupted_prob)"
   ]
  },
  {
   "cell_type": "code",
   "execution_count": 23,
   "metadata": {},
   "outputs": [],
   "source": [
    "def plot_histogram(data, title):\n",
    "    plt.hist(data, bins=20)\n",
    "    plt.title(title)\n",
    "    plt.xlabel('Answer Token Probability Difference')\n",
    "    plt.ylabel('Frequency')\n",
    "    plt.show()"
   ]
  },
  {
   "cell_type": "code",
   "execution_count": 75,
   "metadata": {},
   "outputs": [
    {
     "data": {
      "image/png": "[encoded data removed]",
      "text/plain": [
       "<Figure size 640x480 with 1 Axes>"
      ]
     },
     "metadata": {},
     "output_type": "display_data"
    }
   ],
   "source": [
    "plot_histogram(prob_diffs, 'Probability Difference between Original and Corrupted Questions with Context')"
   ]
  },
  {
   "cell_type": "code",
   "execution_count": null,
   "metadata": {},
   "outputs": [],
   "source": []
  }
 ],
 "metadata": {
  "kernelspec": {
   "display_name": "ENV",
   "language": "python",
   "name": "python3"
  },
  "language_info": {
   "codemirror_mode": {
    "name": "ipython",
    "version": 3
   },
   "file_extension": ".py",
   "mimetype": "text/x-python",
   "name": "python",
   "nbconvert_exporter": "python",
   "pygments_lexer": "ipython3",
   "version": "3.10.12"
  }
 },
 "nbformat": 4,
 "nbformat_minor": 2
}
