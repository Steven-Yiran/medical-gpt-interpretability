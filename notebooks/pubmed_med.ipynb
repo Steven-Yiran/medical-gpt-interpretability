{
 "cells": [
  {
   "cell_type": "code",
   "execution_count": 1,
   "metadata": {},
   "outputs": [],
   "source": [
    "import sys\n",
    "sys.path.append('..')"
   ]
  },
  {
   "cell_type": "code",
   "execution_count": 2,
   "metadata": {},
   "outputs": [
    {
     "name": "stderr",
     "output_type": "stream",
     "text": [
      "/home/ubuntu/dev/medical-gpt-interpretability/ENV/lib/python3.10/site-packages/tqdm/auto.py:21: TqdmWarning: IProgress not found. Please update jupyter and ipywidgets. See https://ipywidgets.readthedocs.io/en/stable/user_install.html\n",
      "  from .autonotebook import tqdm as notebook_tqdm\n"
     ]
    }
   ],
   "source": [
    "import matplotlib.pyplot as plt\n",
    "from transformers import AutoModelForCausalLM, AutoTokenizer\n",
    "import torch\n",
    "import torch.nn.functional as F\n",
    "import json\n",
    "import random\n",
    "import copy\n",
    "\n",
    "from dsets import ClinicalDiseaseDataset"
   ]
  },
  {
   "cell_type": "code",
   "execution_count": 3,
   "metadata": {},
   "outputs": [],
   "source": [
    "model = AutoModelForCausalLM.from_pretrained(\"microsoft/BioGPT-Large-PubMedQA\")\n",
    "tokenizer = AutoTokenizer.from_pretrained(\"microsoft/BioGPT-Large-PubMedQA\")"
   ]
  },
  {
   "cell_type": "code",
   "execution_count": 14,
   "metadata": {},
   "outputs": [
    {
     "name": "stdout",
     "output_type": "stream",
     "text": [
      "Loaded dataset with 50 samples\n"
     ]
    }
   ],
   "source": [
    "with_context = False\n",
    "dataset = ClinicalDiseaseDataset('../data', with_context=with_context)\n",
    "replacement_subjects = json.load(open('../data/disease_keywords.json'))"
   ]
  },
  {
   "cell_type": "code",
   "execution_count": 15,
   "metadata": {},
   "outputs": [
    {
     "data": {
      "text/plain": [
       "({'id': 0,\n",
       "  'subject': ['strabismus', 'amblyopia', 'visual acuity', 'eye disorders'],\n",
       "  'attribute': 'no',\n",
       "  'question': 'landolt c and snellen e acuity: differences in strabismus amblyopia?',\n",
       "  'context': 'assessment of visual acuity depends on the optotypes used for measurement. the ability to recognize different optotypes differs even if their critical details appear under the same visual angle. since optotypes are evaluated on individuals with good visual acuity and without eye disorders, differences in the lower visual acuity range cannot be excluded. in this study, visual acuity measured with the snellen e was compared to the landolt c acuity.100 patients (age 8 - 90 years, median 60.5 years) with various eye disorders, among them 39 with amblyopia due to strabismus, and 13 healthy volunteers were tested. charts with the snellen e and the landolt c (precision vision) which mimic the etdrs charts were used to assess visual acuity. three out of 5 optotypes per line had to be correctly identified, while wrong answers were monitored. in the group of patients, the eyes with the lower visual acuity, and the right eyes of the healthy subjects, were evaluated.differences between landolt c acuity (lr) and snellen e acuity (se) were small. the mean decimal values for lr and se were 0.25 and 0.29 in the entire group and 0.14 and 0.16 for the eyes with strabismus amblyopia. the mean difference between lr and se was 0.55 lines in the entire group and 0.55 lines for the eyes with strabismus amblyopia, with higher values of se in both groups. the results of the other groups were similar with only small differences between lr and se.',\n",
       "  'original_id': '16418930',\n",
       "  'prompt': 'Question: landolt c and snellen e acuity: differences in strabismus amblyopia? the answer to the question is'},\n",
       " ['strabismus', 'amblyopia', 'visual acuity', 'eye disorders'])"
      ]
     },
     "execution_count": 15,
     "metadata": {},
     "output_type": "execute_result"
    }
   ],
   "source": [
    "dataset[0], replacement_subjects[\"0\"]"
   ]
  },
  {
   "cell_type": "code",
   "execution_count": 9,
   "metadata": {},
   "outputs": [],
   "source": [
    "def get_answer_prob(prompt, answer):\n",
    "    inputs = tokenizer(prompt, return_tensors=\"pt\", padding=True, truncation=True)\n",
    "    # Forward pass to get the logits\n",
    "    with torch.no_grad():\n",
    "        outputs = model(input_ids=inputs[\"input_ids\"], attention_mask=inputs[\"attention_mask\"])\n",
    "\n",
    "    # Extract logits at the last position (where answer starts)\n",
    "    logits = outputs.logits[0, -1, :]  # Shape: [vocab_size]\n",
    "\n",
    "    # Get token IDs for \"Yes\", \"No\", and \"Maybe\"\n",
    "    yes_token_id = tokenizer(\" Yes\", add_special_tokens=False)[\"input_ids\"][0]\n",
    "    no_token_id = tokenizer(\" No\", add_special_tokens=False)[\"input_ids\"][0]\n",
    "    maybe_token_id = tokenizer(\" Maybe\", add_special_tokens=False)[\"input_ids\"][0]\n",
    "\n",
    "    # Extract logits for the specific tokens\n",
    "    answer_logits = logits[[yes_token_id, no_token_id, maybe_token_id]]\n",
    "\n",
    "    # Convert logits to probabilities\n",
    "    answer_probs = F.softmax(answer_logits, dim=0)\n",
    "\n",
    "    if answer == 'yes':\n",
    "        return answer_probs[0].item()\n",
    "    elif answer == 'no':\n",
    "        return answer_probs[1].item()\n",
    "    elif answer == 'maybe':\n",
    "        return answer_probs[2].item()\n",
    "    "
   ]
  },
  {
   "cell_type": "code",
   "execution_count": 10,
   "metadata": {},
   "outputs": [],
   "source": [
    "def make_corrupt_prompt(data):\n",
    "    clean_prompt = data['prompt']\n",
    "    subject_arr = data['subject']\n",
    "\n",
    "    # first choose a random idx then choose a random subject\n",
    "    idx = random.randint(0, len(replacement_subjects) - 1)\n",
    "    if idx == data['id']:\n",
    "        idx = (idx + 1) % len(replacement_subjects)\n",
    "    new_subject_arr = replacement_subjects[str(idx)]\n",
    "    new_subject = random.choice(new_subject_arr)\n",
    "\n",
    "    print('original subject:', subject_arr)\n",
    "    print('new subject:', new_subject)\n",
    "    for subject in subject_arr:\n",
    "        corrupt_prompt = clean_prompt.replace(subject, new_subject)\n",
    "    return corrupt_prompt"
   ]
  },
  {
   "cell_type": "code",
   "execution_count": 16,
   "metadata": {},
   "outputs": [
    {
     "name": "stdout",
     "output_type": "stream",
     "text": [
      "original subject: ['strabismus', 'amblyopia', 'visual acuity', 'eye disorders']\n",
      "new subject: young age\n",
      "original subject: ['colectomy', 'hirschsprung disease']\n",
      "new subject: deaths\n",
      "original subject: ['double-balloon enteroscopy', 'community', 'female', 'intestinal diseases']\n",
      "new subject: pap smear\n",
      "original subject: ['sleep disorders', 'sleep', 'self-reports', 'prevalence', 'self-reported']\n",
      "new subject: hdl\n",
      "original subject: ['mutations', 'hdl', 'coronary heart disease', 'cholesterol', 'hdl cholesterol']\n",
      "new subject: vegf\n",
      "original subject: [\"academic children's hospital\", \"general and academic children's hospital\", 'hospital', 'children', 'young age', 'hospital efficiency', 'length of stay', 'pediatric', 'admissions']\n",
      "new subject: female prostitutes\n",
      "original subject: ['family history', 'primary care physicians', 'electronic health records']\n",
      "new subject: asphyxia\n",
      "original subject: ['palliative care', 'opioid administration', 'breathlessness', 'opioid']\n",
      "new subject: sleep\n",
      "original subject: ['cardiovascular', 'resting heart rate', 'heart rate', 'risk', 'casual high bp', 'obese', 'abdominal obesity', 'elevated rhr', 'cvd risk factor', 'higher risk', 'risk factors']\n",
      "new subject: liver surgery\n",
      "original subject: ['acute respiratory distress syndrome', 'malignancy', 'children', 'survived', 'sepsis', 'respiratory', 'ventilation']\n",
      "new subject: antimicrobial\n",
      "original subject: ['nomograms', 'predict', 'biochemical recurrence', 'predicting', 'prostate cancer', 'predicted']\n",
      "new subject: ovary cancer cell lines\n",
      "original subject: ['chronic oro-facial pain', 'teeth grinding', 'facial trauma', 'chronic oro-facial pain']\n",
      "new subject: positron emission tomography\n",
      "original subject: ['immunohistochemistry', 'urothelial carcinoma', 'chemotherapy', 'adjuvant', 'disease-specific']\n",
      "new subject: cervical spine treatment\n",
      "original subject: ['information system', 'information technology', 'diabetes-educated']\n",
      "new subject: prepuce\n",
      "original subject: ['hepatocellular carcinoma', 'portal vein', 'disease free survival', 'cancer']\n",
      "new subject: eye-tracking difficulties\n",
      "original subject: ['papanicolaou smears', 'colposcopy', 'pap smear']\n",
      "new subject: lymphedema\n",
      "original subject: ['diabetes mellitus', 'cervical cancer', 'fdg-pet']\n",
      "new subject: treatment\n",
      "original subject: ['rectal cancer', 'prognosis', 'pelvic exenteration', 'recurrent rectal cancer', 'radiotherapy', 'local recurrence', 'primary rectal cancer', 'disease-free survival', 'survival', 'treatment']\n",
      "new subject: fusidic acid\n",
      "original subject: ['lymphedema', 'circumference', 'sensitivity']\n",
      "new subject: hirschsprung's disease\n",
      "original subject: ['colorectal cancer', 'synchronous liver metastases', 'colorectal cancers', 'liver resection', 'liver surgery', 'colorectal surgery', 'overall survival', 'disease-free survival']\n",
      "new subject: knowledge\n",
      "original subject: ['motion perception', 'eye-tracking abnormality', 'eye movement', 'eye-tracking difficulties', 'eye tracking', 'speed discrimination']\n",
      "new subject: circumference\n",
      "original subject: ['carotid stenosis', 'coronary artery bypass', 'stroke', 'carotid endarterectomies', 'risk factors']\n",
      "new subject: breast cancers\n",
      "original subject: ['mesocolon invasion', 'staging', 'gastric cancer', 'nodal metastasis', 'survival', 'mesocolon invasion', 'curative resection', 'incurable factors']\n",
      "new subject: suicide\n",
      "original subject: ['stroke', 'odds ratio', 'prognostic', 'logistic', 'statins']\n",
      "new subject: prednisone\n",
      "original subject: ['sternal fracture', 'children', 'fracture', 'sternal fractures', 'children', 'radiological', 'sonographical', 'injuries', 'children', 'sternal fracture', 'children', 'pain']\n",
      "new subject: penis\n",
      "original subject: ['breast reconstruction', 'adjuvant chemotherapy', 'mastectomy', 'chemotherapy delivery', 'complications']\n",
      "new subject: colorectal cancers\n",
      "original subject: ['human papillomavirus', 'pterygium', 'virus', 'risk factor', 'cornea', 'studies', 'hpv', 'development of pterygia', 'hpv analysis', 'pcr', 'hpv-positive', 'dna', 'hpv type 6']\n",
      "new subject: ovary cancer cell lines\n",
      "original subject: ['asphyxia']\n",
      "new subject: alloreactive response\n",
      "original subject: ['major depression', 'alcohol use disorder', 'comorbidity', 'adult', 'adolescent', 'comorbid', 'outcomes']\n",
      "new subject: die\n",
      "original subject: ['circumcision', 'dilation', 'prepuce', 'adhesions', 'penis', 'phimosis']\n",
      "new subject: students\n",
      "original subject: ['colonoscopy', 'acute diverticulitis', 'colonic']\n",
      "new subject: lymphedema\n",
      "original subject: ['phonological awareness', 'preschool', 'writing', 'hearing loss', 'reading abilities']\n",
      "new subject: portal vein\n",
      "original subject: ['streptococcal infection', 'multiple sclerosis']\n",
      "new subject: primary rectal cancer\n",
      "original subject: ['ovarian cancer', 'ovary cancer cell lines', 'epirubicine', 'carboplatin']\n",
      "new subject: self-reports\n",
      "original subject: ['vegf', 'venous invasion', 'renal cell carcinoma', 'tumour size', 'invasion of the perirenal fat', 'lymph node involvement', 'distant metastases', 'survival']\n",
      "new subject: primary care physicians\n",
      "original subject: ['injury', 'poisoning', 'suicide', 'deaths', 'death', 'die', 'mortality']\n",
      "new subject: urothelial carcinoma\n",
      "original subject: ['rectal cancer', 'travel', 'high-volume centers', 'lymph node', 'chemoradiation', 'mortality']\n",
      "new subject: disease-free survival\n",
      "original subject: ['lysosomotropic amines', 'cyclosporine', 't-cell responses', 'minor histocompatibility antigens', 'major histocompatibility antigens', 'murine', 'chloroquine', 'graft-versus-host disease', 't cells', 'minor histocompatibility antigens', 'major histocompatibility complex', 'class ii antigen', 'immune suppressant drugs', 'cyclosporine', 'chloroquine', 'hydroxychloroquine', 't-cell response', 'mice', 'c57bl/6', 'cyclosporine', 'synergistic suppression', 'proliferative response', 'alloreactive response', 'c57bl/6', 'anti-cd3epsilon', 'antigen-presenting cells', 't-cell proliferative responses', 't-cell viability', 'interleukin-2', 'interferon-gamma', 'antigen-presenting cells', 'c57bl/6', 'mhc class ii', 'lipopolysaccharide']\n",
      "new subject: sleep disorders\n",
      "original subject: ['induction chemotherapy', 'nasopharyngeal carcinoma', 'survival rates', 'disease recurrence', 'local regional failures', 'neck', 'local failure', 'distant sites', 'stage iv', 'survival', 'freedom from relapse', 'local control', 'distant failure rate', 'chemotherapy', 'local control']\n",
      "new subject: lymphedema\n",
      "original subject: [\"crohn's disease\", 'sulfasalazine']\n",
      "new subject: venous invasion\n",
      "original subject: ['students', 'chaalia', 'pan masala', 'use', 'harmful', 'health', 'knowledge']\n",
      "new subject: female\n",
      "original subject: ['tinnitus', 'cervical', 'somatosensory', 'cervical spine treatment', 'treatment']\n",
      "new subject: length of stay\n",
      "original subject: ['hiv', 'std', 'aids', 'confidence interval', 'homosexuals', 'female prostitutes', 'condom use', 'condom sales']\n",
      "new subject: colposcopy\n",
      "original subject: ['panton-valentine leucocidin', 'staphylococcus aureus', 'bacteraemia', 'uk', 'pathogenesis', 'toxin', 'primary bacteraemia', 'oxacillin', 'methicillin-resistant s. aureus', 'methicillin-susceptible s. aureus', 'penicillin', 'fusidic acid', 'isolates', 'ireland']\n",
      "new subject: predicting\n",
      "original subject: ['rectal cancer', 'positron emission tomography', 'radiotherapy']\n",
      "new subject: admissions\n",
      "original subject: ['radiographic', \"hirschsprung's disease\", 'radiological', 'specimen', 'pathology', 'rectal', 'rectosigmoid', 'long-segment', 'total colonic']\n",
      "new subject: breast reconstruction\n",
      "original subject: ['dexamethasone', 'oral', 'prednisone', 'pediatric', 'asthma', 'treatment', 'corticosteroids']\n",
      "new subject: students\n",
      "original subject: ['mammographic screening', 'ethnicity', 'breast cancers']\n",
      "new subject: specimen\n",
      "original subject: ['autoantibodies', 'type 1 diabetes', 'progression to diabetes', 'diabetes mellitus', 'type 1', 'time to diabetes', 'c-peptide', 'blood glucose']\n",
      "new subject: cervical cancer\n",
      "original subject: ['antimicrobial', 'prescribing', 'specialists', 'hospital']\n",
      "new subject: c-peptide\n"
     ]
    }
   ],
   "source": [
    "prob_diffs = []\n",
    "for i in range(len(dataset)):\n",
    "    data = dataset[i]\n",
    "    clean_prompt = data['prompt']\n",
    "    clean_prob = get_answer_prob(clean_prompt, data['attribute'])\n",
    "\n",
    "    corrupted_prompt = make_corrupt_prompt(data)\n",
    "    corrupted_prob = get_answer_prob(corrupted_prompt, data['attribute'])\n",
    "\n",
    "    prob_diffs.append(clean_prob - corrupted_prob)"
   ]
  },
  {
   "cell_type": "code",
   "execution_count": 17,
   "metadata": {},
   "outputs": [],
   "source": [
    "def plot_histogram(data, title):\n",
    "    plt.hist(data, bins=20)\n",
    "    plt.title(title)\n",
    "    plt.xlabel('Answer Token Probability Difference')\n",
    "    plt.ylabel('Frequency')\n",
    "    plt.show()"
   ]
  },
  {
   "cell_type": "code",
   "execution_count": 18,
   "metadata": {},
   "outputs": [
    {
     "data": {
      "image/png": "[encoded data removed]",
      "text/plain": [
       "<Figure size 640x480 with 1 Axes>"
      ]
     },
     "metadata": {},
     "output_type": "display_data"
    }
   ],
   "source": [
    "title = 'Difference in answer probability between clean and corrupted prompts'\n",
    "if with_context:\n",
    "    title += ' (with context)'\n",
    "plot_histogram(prob_diffs, title)"
   ]
  },
  {
   "cell_type": "code",
   "execution_count": null,
   "metadata": {},
   "outputs": [],
   "source": []
  }
 ],
 "metadata": {
  "kernelspec": {
   "display_name": "ENV",
   "language": "python",
   "name": "python3"
  },
  "language_info": {
   "codemirror_mode": {
    "name": "ipython",
    "version": 3
   },
   "file_extension": ".py",
   "mimetype": "text/x-python",
   "name": "python",
   "nbconvert_exporter": "python",
   "pygments_lexer": "ipython3",
   "version": "3.10.12"
  }
 },
 "nbformat": 4,
 "nbformat_minor": 2
}
