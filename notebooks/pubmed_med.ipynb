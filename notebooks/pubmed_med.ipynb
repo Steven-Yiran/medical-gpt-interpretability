{
 "cells": [
  {
   "cell_type": "code",
   "execution_count": 5,
   "metadata": {},
   "outputs": [],
   "source": [
    "import sys\n",
    "sys.path.append('..')"
   ]
  },
  {
   "cell_type": "code",
   "execution_count": 6,
   "metadata": {},
   "outputs": [],
   "source": [
    "import matplotlib.pyplot as plt\n",
    "from transformers import AutoModelForCausalLM, AutoTokenizer\n",
    "import torch\n",
    "import torch.nn.functional as F\n",
    "import json\n",
    "import random\n",
    "import copy\n",
    "\n",
    "from dsets import ClinicalDiseaseDataset"
   ]
  },
  {
   "cell_type": "code",
   "execution_count": 7,
   "metadata": {},
   "outputs": [],
   "source": [
    "model = AutoModelForCausalLM.from_pretrained(\"microsoft/BioGPT-Large-PubMedQA\")\n",
    "tokenizer = AutoTokenizer.from_pretrained(\"microsoft/BioGPT-Large-PubMedQA\")"
   ]
  },
  {
   "cell_type": "code",
   "execution_count": 24,
   "metadata": {},
   "outputs": [
    {
     "name": "stdout",
     "output_type": "stream",
     "text": [
      "Loaded dataset with 50 samples\n"
     ]
    }
   ],
   "source": [
    "with_context = False\n",
    "dataset = ClinicalDiseaseDataset('../data', with_context=with_context)\n",
    "replacement_subjects = json.load(open('../data/disease_keywords.json'))"
   ]
  },
  {
   "cell_type": "code",
   "execution_count": 23,
   "metadata": {},
   "outputs": [
    {
     "data": {
      "text/plain": [
       "({'id': 0,\n",
       "  'subject': 'strabismus',\n",
       "  'attribute': 'no',\n",
       "  'question': 'landolt c and snellen e acuity: differences in strabismus amblyopia?',\n",
       "  'context': 'assessment of visual acuity depends on the optotypes used for measurement. the ability to recognize different optotypes differs even if their critical details appear under the same visual angle. since optotypes are evaluated on individuals with good visual acuity and without eye disorders, differences in the lower visual acuity range cannot be excluded. in this study, visual acuity measured with the snellen e was compared to the landolt c acuity.100 patients (age 8 - 90 years, median 60.5 years) with various eye disorders, among them 39 with amblyopia due to strabismus, and 13 healthy volunteers were tested. charts with the snellen e and the landolt c (precision vision) which mimic the etdrs charts were used to assess visual acuity. three out of 5 optotypes per line had to be correctly identified, while wrong answers were monitored. in the group of patients, the eyes with the lower visual acuity, and the right eyes of the healthy subjects, were evaluated.differences between landolt c acuity (lr) and snellen e acuity (se) were small. the mean decimal values for lr and se were 0.25 and 0.29 in the entire group and 0.14 and 0.16 for the eyes with strabismus amblyopia. the mean difference between lr and se was 0.55 lines in the entire group and 0.55 lines for the eyes with strabismus amblyopia, with higher values of se in both groups. the results of the other groups were similar with only small differences between lr and se.',\n",
       "  'original_id': '16418930',\n",
       "  'prompt': 'Question: landolt c and snellen e acuity: differences in strabismus amblyopia? the answer to the question is'},\n",
       " ['strabismus', 'amblyopia', 'visual acuity', 'eye disorders'])"
      ]
     },
     "execution_count": 23,
     "metadata": {},
     "output_type": "execute_result"
    }
   ],
   "source": [
    "dataset[0], replacement_subjects[\"0\"]"
   ]
  },
  {
   "cell_type": "code",
   "execution_count": 12,
   "metadata": {},
   "outputs": [],
   "source": [
    "def get_answer_prob(prompt, answer):\n",
    "    inputs = tokenizer(prompt, return_tensors=\"pt\", padding=True, truncation=True)\n",
    "    # Forward pass to get the logits\n",
    "    with torch.no_grad():\n",
    "        outputs = model(input_ids=inputs[\"input_ids\"], attention_mask=inputs[\"attention_mask\"])\n",
    "\n",
    "    # Extract logits at the last position (where answer starts)\n",
    "    logits = outputs.logits[0, -1, :]  # Shape: [vocab_size]\n",
    "\n",
    "    # Get token IDs for \"Yes\", \"No\", and \"Maybe\"\n",
    "    yes_token_id = tokenizer(\" Yes\", add_special_tokens=False)[\"input_ids\"][0]\n",
    "    no_token_id = tokenizer(\" No\", add_special_tokens=False)[\"input_ids\"][0]\n",
    "    maybe_token_id = tokenizer(\" Maybe\", add_special_tokens=False)[\"input_ids\"][0]\n",
    "\n",
    "    # Extract logits for the specific tokens\n",
    "    answer_logits = logits[[yes_token_id, no_token_id, maybe_token_id]]\n",
    "\n",
    "    # Convert logits to probabilities\n",
    "    answer_probs = F.softmax(answer_logits, dim=0)\n",
    "\n",
    "    if answer == 'yes':\n",
    "        return answer_probs[0].item()\n",
    "    elif answer == 'no':\n",
    "        return answer_probs[1].item()\n",
    "    elif answer == 'maybe':\n",
    "        return answer_probs[2].item()\n",
    "    "
   ]
  },
  {
   "cell_type": "code",
   "execution_count": 15,
   "metadata": {},
   "outputs": [],
   "source": [
    "def make_corrupt_prompt(data):\n",
    "    clean_prompt = data['prompt']\n",
    "    subject = data['subject']\n",
    "\n",
    "    # first choose a random idx then choose a random subject\n",
    "    idx = random.randint(0, len(replacement_subjects) - 1)\n",
    "    if idx == data['id']:\n",
    "        idx = (idx + 1) % len(replacement_subjects)\n",
    "    new_subject_arr = replacement_subjects[str(idx)]\n",
    "    new_subject = random.choice(new_subject_arr)\n",
    "\n",
    "    print('original subject:', subject)\n",
    "    print('new subject:', new_subject)\n",
    "    corrupt_prompt = clean_prompt.replace(subject, new_subject)\n",
    "    return corrupt_prompt"
   ]
  },
  {
   "cell_type": "code",
   "execution_count": 25,
   "metadata": {},
   "outputs": [
    {
     "name": "stdout",
     "output_type": "stream",
     "text": [
      "original subject: strabismus\n",
      "new subject: self-reported\n",
      "original subject: colectomy\n",
      "new subject: family history\n",
      "original subject: double-balloon enteroscopy\n",
      "new subject: immunohistochemistry\n",
      "original subject: sleep disorders\n",
      "new subject: lymph node involvement\n",
      "original subject: mutations\n",
      "new subject: papanicolaou smears\n",
      "original subject: academic children's hospital\n",
      "new subject: predict\n",
      "original subject: family history\n",
      "new subject: diabetes-educated\n",
      "original subject: palliative care\n",
      "new subject: cancer\n",
      "original subject: cardiovascular\n",
      "new subject: cervical cancer\n",
      "original subject: acute respiratory distress syndrome\n",
      "new subject: double-balloon enteroscopy\n",
      "original subject: nomograms\n",
      "new subject: ovarian cancer\n",
      "original subject: chronic oro-facial pain\n",
      "new subject: cancer\n",
      "original subject: immunohistochemistry\n",
      "new subject: tinnitus\n",
      "original subject: information system\n",
      "new subject: rectal cancer\n",
      "original subject: hepatocellular carcinoma\n",
      "new subject: logistic\n",
      "original subject: papanicolaou smears\n",
      "new subject: facial trauma\n",
      "original subject: diabetes mellitus\n",
      "new subject: hpv-positive\n",
      "original subject: rectal cancer\n",
      "new subject: family history\n",
      "original subject: lymphedema\n",
      "new subject: colonoscopy\n",
      "original subject: colorectal cancer\n",
      "new subject: ethnicity\n",
      "original subject: motion perception\n",
      "new subject: hepatocellular carcinoma\n",
      "original subject: carotid stenosis\n",
      "new subject: colonic\n",
      "original subject: mesocolon invasion\n",
      "new subject: stage iv\n",
      "original subject: stroke\n",
      "new subject: acute diverticulitis\n",
      "original subject: sternal fracture\n",
      "new subject: sensitivity\n",
      "original subject: breast reconstruction\n",
      "new subject: asphyxia\n",
      "original subject: human papillomavirus\n",
      "new subject: epirubicine\n",
      "original subject: asphyxia\n",
      "new subject: students\n",
      "original subject: major depression\n",
      "new subject: development of pterygia\n",
      "original subject: circumcision\n",
      "new subject: electronic health records\n",
      "original subject: colonoscopy\n",
      "new subject: asphyxia\n",
      "original subject: phonological awareness\n",
      "new subject: treatment\n",
      "original subject: streptococcal infection\n",
      "new subject: pap smear\n",
      "original subject: ovarian cancer\n",
      "new subject: circumference\n",
      "original subject: vegf\n",
      "new subject: streptococcal infection\n",
      "original subject: injury\n",
      "new subject: specialists\n",
      "original subject: rectal cancer\n",
      "new subject: rectal cancer\n",
      "original subject: lysosomotropic amines\n",
      "new subject: eye movement\n",
      "original subject: induction chemotherapy\n",
      "new subject: logistic\n",
      "original subject: crohn's disease\n",
      "new subject: diabetes mellitus\n",
      "original subject: students\n",
      "new subject: dilation\n",
      "original subject: tinnitus\n",
      "new subject: palliative care\n",
      "original subject: hiv\n",
      "new subject: local control\n",
      "original subject: panton-valentine leucocidin\n",
      "new subject: complications\n",
      "original subject: rectal cancer\n",
      "new subject: isolates\n",
      "original subject: radiographic\n",
      "new subject: eye tracking\n",
      "original subject: dexamethasone\n",
      "new subject: disease-free survival\n",
      "original subject: mammographic screening\n",
      "new subject: asphyxia\n",
      "original subject: autoantibodies\n",
      "new subject: somatosensory\n",
      "original subject: antimicrobial\n",
      "new subject: diabetes mellitus\n"
     ]
    }
   ],
   "source": [
    "prob_diffs = []\n",
    "for i in range(len(dataset)):\n",
    "    data = dataset[i]\n",
    "    clean_prompt = data['prompt']\n",
    "    clean_prob = get_answer_prob(clean_prompt, data['attribute'])\n",
    "\n",
    "    corrupted_prompt = make_corrupt_prompt(data)\n",
    "    corrupted_prob = get_answer_prob(corrupted_prompt, data['attribute'])\n",
    "\n",
    "    prob_diffs.append(clean_prob - corrupted_prob)"
   ]
  },
  {
   "cell_type": "code",
   "execution_count": 17,
   "metadata": {},
   "outputs": [],
   "source": [
    "def plot_histogram(data, title):\n",
    "    plt.hist(data, bins=20)\n",
    "    plt.title(title)\n",
    "    plt.xlabel('Answer Token Probability Difference')\n",
    "    plt.ylabel('Frequency')\n",
    "    plt.show()"
   ]
  },
  {
   "cell_type": "code",
   "execution_count": 26,
   "metadata": {},
   "outputs": [
    {
     "data": {
      "image/png": "[encoded data removed]",
      "text/plain": [
       "<Figure size 640x480 with 1 Axes>"
      ]
     },
     "metadata": {},
     "output_type": "display_data"
    }
   ],
   "source": [
    "title = 'Difference in answer probability between clean and corrupted prompts'\n",
    "if with_context:\n",
    "    title += ' (with context)'\n",
    "plot_histogram(prob_diffs, title)"
   ]
  },
  {
   "cell_type": "code",
   "execution_count": null,
   "metadata": {},
   "outputs": [],
   "source": []
  }
 ],
 "metadata": {
  "kernelspec": {
   "display_name": "ENV",
   "language": "python",
   "name": "python3"
  },
  "language_info": {
   "codemirror_mode": {
    "name": "ipython",
    "version": 3
   },
   "file_extension": ".py",
   "mimetype": "text/x-python",
   "name": "python",
   "nbconvert_exporter": "python",
   "pygments_lexer": "ipython3",
   "version": "3.10.12"
  }
 },
 "nbformat": 4,
 "nbformat_minor": 2
}
