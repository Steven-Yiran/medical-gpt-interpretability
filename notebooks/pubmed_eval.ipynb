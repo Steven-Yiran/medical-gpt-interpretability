{
 "cells": [
  {
   "cell_type": "code",
   "execution_count": 3,
   "metadata": {},
   "outputs": [],
   "source": [
    "import sys\n",
    "sys.path.append('..')"
   ]
  },
  {
   "cell_type": "code",
   "execution_count": 4,
   "metadata": {},
   "outputs": [
    {
     "name": "stderr",
     "output_type": "stream",
     "text": [
      "/home/ubuntu/research-1/medical-gpt-interpretability/ENV/lib/python3.10/site-packages/tqdm/auto.py:21: TqdmWarning: IProgress not found. Please update jupyter and ipywidgets. See https://ipywidgets.readthedocs.io/en/stable/user_install.html\n",
      "  from .autonotebook import tqdm as notebook_tqdm\n"
     ]
    }
   ],
   "source": [
    "import json\n",
    "import torch\n",
    "from transformers import AutoModelForCausalLM, AutoTokenizer\n",
    "from tqdm import tqdm"
   ]
  },
  {
   "cell_type": "code",
   "execution_count": 5,
   "metadata": {},
   "outputs": [],
   "source": [
    "models = {\n",
    "    \"BioGPT\": {\n",
    "        \"model\": AutoModelForCausalLM.from_pretrained(\"microsoft/biogpt\"),\n",
    "        \"tokenizer\": AutoTokenizer.from_pretrained(\"microsoft/biogpt\")\n",
    "    },\n",
    "    \"BioGPT-PubMedQA\": {\n",
    "        \"model\": AutoModelForCausalLM.from_pretrained(\"microsoft/BioGPT-Large-PubMedQA\"),\n",
    "        \"tokenizer\": AutoTokenizer.from_pretrained(\"microsoft/BioGPT-Large-PubMedQA\")\n",
    "    },\n",
    "    \"GPT2\": {\n",
    "        \"model\": AutoModelForCausalLM.from_pretrained(\"openai-community/gpt2\"),\n",
    "        \"tokenizer\": AutoTokenizer.from_pretrained(\"openai-community/gpt2\")\n",
    "    },\n",
    "    \"GPT2-XL\":{\n",
    "        \"model\": AutoModelForCausalLM.from_pretrained(\"openai-community/gpt2-xl\"),\n",
    "        \"tokenizer\": AutoTokenizer.from_pretrained(\"openai-community/gpt2-xl\")\n",
    "    }\n",
    "}"
   ]
  },
  {
   "cell_type": "code",
   "execution_count": 6,
   "metadata": {},
   "outputs": [],
   "source": [
    "data_path = \"../data/ori_pqal.json\"\n",
    "with open(data_path, \"r\") as f:\n",
    "    data = json.load(f)"
   ]
  },
  {
   "cell_type": "code",
   "execution_count": 7,
   "metadata": {},
   "outputs": [],
   "source": [
    "device = \"cuda\" if torch.cuda.is_available() else \"cpu\"\n",
    "\n",
    "for model_info in models.values():\n",
    "    model_info[\"model\"].to(device)\n",
    "    model_info[\"model\"].eval()"
   ]
  },
  {
   "cell_type": "code",
   "execution_count": 26,
   "metadata": {},
   "outputs": [],
   "source": [
    "def format_prompt(question, context):\n",
    "    return f\"Based on the following context, determine the answer as 'yes', 'no', or 'maybe'. \\n\\nContext: {context} \\n\\nQuestion: {question} The answer to this question is \""
   ]
  },
  {
   "cell_type": "code",
   "execution_count": 27,
   "metadata": {},
   "outputs": [],
   "source": [
    "def evaluate_exact_match_accuracy(data, models, with_context=False):\n",
    "    results = {}\n",
    "    for model_name, model_info in models.items():\n",
    "        model = model_info[\"model\"]\n",
    "        tokenizer = model_info[\"tokenizer\"]\n",
    "        correct = 0\n",
    "\n",
    "        print(f\"Evaluating {model_name}\")\n",
    "        for id, entry in data.items():\n",
    "            question = entry[\"QUESTION\"]\n",
    "            if with_context:\n",
    "                contexts = entry[\"CONTEXTS\"]\n",
    "                combined_context = \" \".join(contexts)\n",
    "            true_answer = entry[\"final_decision\"].strip().lower()\n",
    "\n",
    "            if with_context:\n",
    "                prompt = format_prompt(question, combined_context)\n",
    "            else:\n",
    "                prompt = format_prompt(question, \"\")\n",
    "\n",
    "            inputs = tokenizer(prompt, return_tensors=\"pt\", truncation=True).to(device)\n",
    "            with torch.no_grad():\n",
    "                outputs = model(input_ids=inputs[\"input_ids\"], attention_mask=inputs[\"attention_mask\"])\n",
    "\n",
    "            logits = outputs.logits[0, -1, :]\n",
    "\n",
    "            # get max probability token\n",
    "            predicted_index = torch.argmax(logits).item()\n",
    "            predicted_token = tokenizer.decode(predicted_index).strip().lower()\n",
    "            print(f\"Predicted: {predicted_token}, True: {true_answer}\")\n",
    "            if predicted_token == true_answer:\n",
    "                correct += 1\n",
    "\n",
    "\n",
    "        # Calculate accuracy\n",
    "        accuracy = correct / len(data) * 100\n",
    "        results[model_name] = accuracy\n",
    "    \n",
    "    return results"
   ]
  },
  {
   "cell_type": "code",
   "execution_count": 28,
   "metadata": {},
   "outputs": [
    {
     "name": "stdout",
     "output_type": "stream",
     "text": [
      "Evaluating BioGPT\n"
     ]
    },
    {
     "ename": "UnboundLocalError",
     "evalue": "local variable 'combined_context' referenced before assignment",
     "output_type": "error",
     "traceback": [
      "\u001b[0;31m---------------------------------------------------------------------------\u001b[0m",
      "\u001b[0;31mUnboundLocalError\u001b[0m                         Traceback (most recent call last)",
      "Cell \u001b[0;32mIn[28], line 1\u001b[0m\n\u001b[0;32m----> 1\u001b[0m results \u001b[38;5;241m=\u001b[39m \u001b[43mevaluate_exact_match_accuracy\u001b[49m\u001b[43m(\u001b[49m\u001b[43mdata\u001b[49m\u001b[43m,\u001b[49m\u001b[43m \u001b[49m\u001b[43mmodels\u001b[49m\u001b[43m,\u001b[49m\u001b[43m \u001b[49m\u001b[43mwith_context\u001b[49m\u001b[38;5;241;43m=\u001b[39;49m\u001b[38;5;28;43;01mFalse\u001b[39;49;00m\u001b[43m)\u001b[49m\n",
      "Cell \u001b[0;32mIn[27], line 17\u001b[0m, in \u001b[0;36mevaluate_exact_match_accuracy\u001b[0;34m(data, models, with_context)\u001b[0m\n\u001b[1;32m     13\u001b[0m     combined_context \u001b[38;5;241m=\u001b[39m \u001b[38;5;124m\"\u001b[39m\u001b[38;5;124m \u001b[39m\u001b[38;5;124m\"\u001b[39m\u001b[38;5;241m.\u001b[39mjoin(contexts)\n\u001b[1;32m     14\u001b[0m true_answer \u001b[38;5;241m=\u001b[39m entry[\u001b[38;5;124m\"\u001b[39m\u001b[38;5;124mfinal_decision\u001b[39m\u001b[38;5;124m\"\u001b[39m]\u001b[38;5;241m.\u001b[39mstrip()\u001b[38;5;241m.\u001b[39mlower()\n\u001b[0;32m---> 17\u001b[0m prompt \u001b[38;5;241m=\u001b[39m format_prompt(question, \u001b[43mcombined_context\u001b[49m)\n\u001b[1;32m     19\u001b[0m inputs \u001b[38;5;241m=\u001b[39m tokenizer(prompt, return_tensors\u001b[38;5;241m=\u001b[39m\u001b[38;5;124m\"\u001b[39m\u001b[38;5;124mpt\u001b[39m\u001b[38;5;124m\"\u001b[39m, truncation\u001b[38;5;241m=\u001b[39m\u001b[38;5;28;01mTrue\u001b[39;00m)\u001b[38;5;241m.\u001b[39mto(device)\n\u001b[1;32m     20\u001b[0m \u001b[38;5;28;01mwith\u001b[39;00m torch\u001b[38;5;241m.\u001b[39mno_grad():\n",
      "\u001b[0;31mUnboundLocalError\u001b[0m: local variable 'combined_context' referenced before assignment"
     ]
    }
   ],
   "source": [
    "results = evaluate_exact_match_accuracy(data, models, with_context=False)"
   ]
  },
  {
   "cell_type": "code",
   "execution_count": 25,
   "metadata": {},
   "outputs": [
    {
     "name": "stdout",
     "output_type": "stream",
     "text": [
      "{'BioGPT': 5.2, 'BioGPT-PubMedQA': 60.199999999999996, 'GPT2': 0.0, 'GPT2-XL': 0.0}\n"
     ]
    }
   ],
   "source": [
    "print(results)"
   ]
  },
  {
   "cell_type": "code",
   "execution_count": 21,
   "metadata": {},
   "outputs": [
    {
     "data": {
      "image/png": "[encoded data removed]",
      "text/plain": [
       "<Figure size 640x480 with 1 Axes>"
      ]
     },
     "metadata": {},
     "output_type": "display_data"
    }
   ],
   "source": [
    "# make bar plot on accuracy\n",
    "import matplotlib.pyplot as plt\n",
    "\n",
    "plt.bar(results.keys(), results.values())\n",
    "plt.ylabel(\"Accuracy (%)\")\n",
    "plt.title(\"Exact Match Accuracy of Different Models on PQA with Context\")\n",
    "plt.show()"
   ]
  },
  {
   "cell_type": "code",
   "execution_count": null,
   "metadata": {},
   "outputs": [],
   "source": []
  }
 ],
 "metadata": {
  "kernelspec": {
   "display_name": "ENV",
   "language": "python",
   "name": "python3"
  },
  "language_info": {
   "codemirror_mode": {
    "name": "ipython",
    "version": 3
   },
   "file_extension": ".py",
   "mimetype": "text/x-python",
   "name": "python",
   "nbconvert_exporter": "python",
   "pygments_lexer": "ipython3",
   "version": "3.10.12"
  }
 },
 "nbformat": 4,
 "nbformat_minor": 2
}
