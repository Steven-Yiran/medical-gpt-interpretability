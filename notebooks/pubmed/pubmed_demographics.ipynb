{
 "cells": [
  {
   "cell_type": "code",
   "execution_count": 1,
   "metadata": {},
   "outputs": [],
   "source": [
    "import json\n",
    "import re\n",
    "import matplotlib.pyplot as plt"
   ]
  },
  {
   "cell_type": "code",
   "execution_count": 2,
   "metadata": {},
   "outputs": [],
   "source": [
    "genders = [\n",
    "    'male',\n",
    "    'female',\n",
    "    'gender',\n",
    "    'men',\n",
    "    'man',\n",
    "    'woman',\n",
    "    'women',\n",
    "    'he',\n",
    "    'she'\n",
    "]\n",
    "male = [\n",
    "    'male',\n",
    "    'men',\n",
    "    'man',\n",
    "    'he'\n",
    "]\n",
    "female = [\n",
    "    'female',\n",
    "    'women',\n",
    "    'woman',\n",
    "    'she'\n",
    "]\n",
    "ages = [\n",
    "    'child',\n",
    "    'adolescent',\n",
    "    'adult',\n",
    "    'elderly',\n",
    "    'years old'\n",
    "]\n",
    "ethnicities = [\n",
    "    'Asian',\n",
    "    'Caucasian',\n",
    "    'White'\n",
    "    'African American',\n",
    "    'Black',\n",
    "    'Hispanic',\n",
    "    'Latino',\n",
    "    'ethnicity'\n",
    "]\n",
    "asian = ['Asian']\n",
    "caucasian = ['Caucasian', 'White']\n",
    "african_american = ['African American', 'Black']\n",
    "hispanic = ['Hispanic', 'Latino']\n",
    "outcomes = [\n",
    "    'significant',\n",
    "    'highly',\n",
    "    #'positive',\n",
    "    'strong',\n",
    "    'substantial',\n",
    "]"
   ]
  },
  {
   "cell_type": "code",
   "execution_count": 3,
   "metadata": {},
   "outputs": [],
   "source": [
    "class StatsStore:\n",
    "    def __init__(self, total, keywords, title=None):\n",
    "        self.total = total\n",
    "        self.keywords = keywords\n",
    "        self.counts = 0\n",
    "        self.title = title\n",
    "\n",
    "    def percent(self):\n",
    "        if self.total == 0:\n",
    "            raise ValueError('No data')\n",
    "        return self.counts / self.total\n",
    "\n",
    "    def check_matches(self, text):\n",
    "        found = False\n",
    "        for keyword in self.keywords:\n",
    "            pattern = rf'\\b{re.escape(keyword)}\\b'\n",
    "            if re.search(pattern, text, re.IGNORECASE):\n",
    "                found = True\n",
    "                break\n",
    "        if found:\n",
    "            self.counts += 1\n",
    "\n",
    "    def get_title(self):\n",
    "        return self.title\n"
   ]
  },
  {
   "cell_type": "code",
   "execution_count": 14,
   "metadata": {},
   "outputs": [],
   "source": [
    "# labeled\n",
    "# data_name = \"labeled\"\n",
    "# pubmed_data_path = '../data/ori_pqal.json'\n",
    "# artificial\n",
    "data_name = \"artificial\"\n",
    "pubmed_data_path = '../data/ori_pqaa.json'"
   ]
  },
  {
   "cell_type": "code",
   "execution_count": 15,
   "metadata": {},
   "outputs": [
    {
     "name": "stdout",
     "output_type": "stream",
     "text": [
      "Total data: 211269\n"
     ]
    }
   ],
   "source": [
    "with open(pubmed_data_path, 'r') as f:\n",
    "    data = json.load(f)\n",
    "print('Total data:', len(data))"
   ]
  },
  {
   "cell_type": "code",
   "execution_count": 19,
   "metadata": {},
   "outputs": [],
   "source": [
    "def check_matches(stores):\n",
    "    for i, entry in data.items():\n",
    "        text = entry['QUESTION']\n",
    "        text += ' '.join(entry['CONTEXTS'])\n",
    "\n",
    "        for store in stores:\n",
    "            store.check_matches(text)"
   ]
  },
  {
   "cell_type": "code",
   "execution_count": 20,
   "metadata": {},
   "outputs": [],
   "source": [
    "def plot_store_stats(stores):\n",
    "    check_matches(stores)\n",
    "\n",
    "    stats = sorted([s for s in stores], key=lambda x: x.percent(), reverse=True)\n",
    "    percents = [store.percent() for store in stats]\n",
    "    labels = [store.get_title() for store in stats]\n",
    "    plt.bar(labels, percents)\n",
    "    plt.ylabel('Percentage')\n",
    "    plt.title(f'Percentage of entries that contains keywords in PubmedQA {data_name}')\n",
    "    plt.show()"
   ]
  },
  {
   "cell_type": "code",
   "execution_count": 22,
   "metadata": {},
   "outputs": [
    {
     "data": {
      "image/png": "[encoded data removed]",
      "text/plain": [
       "<Figure size 640x480 with 1 Axes>"
      ]
     },
     "metadata": {},
     "output_type": "display_data"
    }
   ],
   "source": [
    "gender_stats = StatsStore(len(data), genders, 'Gender')\n",
    "age_stats = StatsStore(len(data), ages, 'Age')\n",
    "ethn_stats = StatsStore(len(data), ethnicities, 'Ethnicity')\n",
    "outcomes_stats = StatsStore(len(data), outcomes, 'Outcomes')\n",
    "male_stats = StatsStore(len(data), male, 'male')\n",
    "female_stats = StatsStore(len(data), female, 'female')\n",
    "asian_stats = StatsStore(len(data), asian, 'Asian')\n",
    "caucasian_stats = StatsStore(len(data), caucasian, 'Caucasian')\n",
    "african_american_stats = StatsStore(len(data), african_american, 'African American')\n",
    "hispanic_stats = StatsStore(len(data), hispanic, 'Hispanic')\n",
    "\n",
    "demographic_stores = [gender_stats, age_stats, ethn_stats, outcomes_stats]\n",
    "gender_stores = [male_stats, female_stats]\n",
    "ethn_stores = [asian_stats, caucasian_stats, african_american_stats, hispanic_stats]\n",
    "\n",
    "# plot percent bar chart for each store\n",
    "plot_store_stats(demographic_stores)"
   ]
  },
  {
   "cell_type": "code",
   "execution_count": null,
   "metadata": {},
   "outputs": [],
   "source": []
  }
 ],
 "metadata": {
  "kernelspec": {
   "display_name": "ENV",
   "language": "python",
   "name": "python3"
  },
  "language_info": {
   "codemirror_mode": {
    "name": "ipython",
    "version": 3
   },
   "file_extension": ".py",
   "mimetype": "text/x-python",
   "name": "python",
   "nbconvert_exporter": "python",
   "pygments_lexer": "ipython3",
   "version": "3.10.12"
  }
 },
 "nbformat": 4,
 "nbformat_minor": 2
}
