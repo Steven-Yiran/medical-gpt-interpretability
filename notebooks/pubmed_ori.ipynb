{
 "cells": [
  {
   "cell_type": "code",
   "execution_count": 1,
   "metadata": {},
   "outputs": [],
   "source": [
    "import sys\n",
    "sys.path.append('..')"
   ]
  },
  {
   "cell_type": "code",
   "execution_count": 3,
   "metadata": {},
   "outputs": [],
   "source": [
    "import matplotlib.pyplot as plt\n",
    "import json\n",
    "import re\n",
    "from tqdm import tqdm"
   ]
  },
  {
   "cell_type": "code",
   "execution_count": 4,
   "metadata": {},
   "outputs": [],
   "source": [
    "data_path = \"../data/ori_pqal.json\"\n",
    "with open(data_path, 'r') as f:\n",
    "    data = json.load(f)"
   ]
  },
  {
   "cell_type": "code",
   "execution_count": 5,
   "metadata": {},
   "outputs": [],
   "source": [
    "def get_unique_disease(data):\n",
    "    diseases = set()\n",
    "    num = 0\n",
    "    for id, entry in tqdm(data.items()):\n",
    "        meshes = entry[\"MESHES\"]\n",
    "\n",
    "        # find mesh term in meshes that contain '*Disease' or '*Syndrome' or '*Disorders'\n",
    "        found = False\n",
    "        for mesh in meshes:\n",
    "            if re.search(r\"Disease|Syndrome|Disorders\", mesh):\n",
    "                found = True\n",
    "                diseases.add(mesh)\n",
    "        if found:\n",
    "            num += 1\n",
    "\n",
    "    return diseases, num"
   ]
  },
  {
   "cell_type": "code",
   "execution_count": 6,
   "metadata": {},
   "outputs": [
    {
     "name": "stderr",
     "output_type": "stream",
     "text": [
      "100%|██████████| 1000/1000 [00:00<00:00, 183654.61it/s]\n"
     ]
    }
   ],
   "source": [
    "diseases, num = get_unique_disease(data)"
   ]
  },
  {
   "cell_type": "code",
   "execution_count": 10,
   "metadata": {},
   "outputs": [],
   "source": [
    "# save diseases to file\n",
    "with open(\"../data/diseases.txt\", 'w') as f:\n",
    "    for disease in diseases:\n",
    "        f.write(disease + '\\n')"
   ]
  },
  {
   "cell_type": "code",
   "execution_count": null,
   "metadata": {},
   "outputs": [],
   "source": []
  }
 ],
 "metadata": {
  "kernelspec": {
   "display_name": "ENV",
   "language": "python",
   "name": "python3"
  },
  "language_info": {
   "codemirror_mode": {
    "name": "ipython",
    "version": 3
   },
   "file_extension": ".py",
   "mimetype": "text/x-python",
   "name": "python",
   "nbconvert_exporter": "python",
   "pygments_lexer": "ipython3",
   "version": "3.11.7"
  }
 },
 "nbformat": 4,
 "nbformat_minor": 2
}
