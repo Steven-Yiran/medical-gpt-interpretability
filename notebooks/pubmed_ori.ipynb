{
 "cells": [
  {
   "cell_type": "code",
   "execution_count": 1,
   "metadata": {},
   "outputs": [],
   "source": [
    "import sys\n",
    "sys.path.append('..')"
   ]
  },
  {
   "cell_type": "code",
   "execution_count": 4,
   "metadata": {},
   "outputs": [],
   "source": [
    "import matplotlib.pyplot as plt\n",
    "import json\n",
    "import re\n",
    "from tqdm import tqdm"
   ]
  },
  {
   "cell_type": "code",
   "execution_count": 3,
   "metadata": {},
   "outputs": [],
   "source": [
    "data_path = \"../data/ori_pqal.json\"\n",
    "with open(data_path, 'r') as f:\n",
    "    data = json.load(f)"
   ]
  },
  {
   "cell_type": "code",
   "execution_count": 10,
   "metadata": {},
   "outputs": [],
   "source": [
    "def get_unique_disease(data):\n",
    "    diseases = set()\n",
    "    num = 0\n",
    "    for id, entry in tqdm(data.items()):\n",
    "        meshes = entry[\"MESHES\"]\n",
    "\n",
    "        # find mesh term in meshes that contain '*Disease' or '*Syndrome' or '*Disorders'\n",
    "        found = False\n",
    "        for mesh in meshes:\n",
    "            if re.search(r\"Disease|Syndrome|Disorders\", mesh):\n",
    "                found = True\n",
    "                diseases.add(mesh)\n",
    "        if found:\n",
    "            num += 1\n",
    "\n",
    "    return diseases, num"
   ]
  },
  {
   "cell_type": "code",
   "execution_count": 11,
   "metadata": {},
   "outputs": [
    {
     "name": "stderr",
     "output_type": "stream",
     "text": [
      "100%|██████████| 1000/1000 [00:00<00:00, 33466.88it/s]\n"
     ]
    }
   ],
   "source": [
    "diseases, num = get_unique_disease(data)"
   ]
  },
  {
   "cell_type": "code",
   "execution_count": 13,
   "metadata": {},
   "outputs": [
    {
     "name": "stdout",
     "output_type": "stream",
     "text": [
      "{'Spinal Cord Diseases', 'Inflammatory Bowel Diseases', 'Paranasal Sinus Diseases', 'Disease Notification', 'Joint Diseases', 'Aortic Diseases', 'Uterine Diseases', 'Alzheimer Disease', 'Infant, Premature, Diseases', 'Neurodegenerative Diseases', 'Gastrointestinal Diseases', 'Intestinal Diseases', 'Chronic Disease', 'Sexually Transmitted Diseases', 'Arterial Occlusive Diseases', 'Retinal Diseases', 'Coronary Disease', 'Centers for Disease Control and Prevention (U.S.)', 'Genetic Predisposition to Disease', 'Colonic Diseases', 'Celiac Disease', 'Infectious Disease Transmission, Vertical', 'Disease Susceptibility', 'Hirschsprung Disease', 'Rectal Diseases', 'Liver Diseases', 'Musculoskeletal Diseases', 'Gallbladder Diseases', 'Meniere Disease', 'Sexually Transmitted Diseases, Bacterial', 'Animal Diseases', 'Salivary Gland Diseases', 'Vascular Diseases', 'Eye Diseases', 'Communicable Diseases', 'Penile Diseases', 'Kidney Diseases', 'Breast Diseases', 'Coronary Artery Disease', 'Iatrogenic Disease', 'Urinary Bladder Diseases', 'Plant Diseases', 'Genetic Diseases, Inborn', 'Non-alcoholic Fatty Liver Disease', 'Virus Diseases', 'Disease-Free Survival', 'Autoimmune Diseases', 'Occupational Diseases', 'Skin Diseases', 'Disease Models, Animal', 'Ovarian Diseases', 'Infant, Newborn, Diseases', 'Fetal Diseases', 'Lung Diseases', 'Nervous System Diseases', 'Foot Diseases', 'Immune System Diseases', 'Graft vs Host Disease', 'Respiratory Tract Diseases', 'Mouth Diseases', 'End Stage Liver Disease', 'Urologic Diseases', 'Parkinson Disease', 'Ureteral Diseases', 'Rare Diseases', 'Disease Progression', 'Acute Disease', 'Carotid Artery Diseases', 'Disease Management', 'Crohn Disease', 'Pulmonary Disease, Chronic Obstructive', 'Motor Neuron Disease', 'Cardiovascular Diseases', 'Liver Diseases, Alcoholic', 'Pelvic Inflammatory Disease', 'Spinal Diseases', 'Periodontal Diseases', 'Pancreatic Diseases', 'Hodgkin Disease', 'Metabolic Diseases', 'Maxillary Diseases'}\n"
     ]
    }
   ],
   "source": [
    "print(diseases)"
   ]
  },
  {
   "cell_type": "code",
   "execution_count": null,
   "metadata": {},
   "outputs": [],
   "source": []
  }
 ],
 "metadata": {
  "kernelspec": {
   "display_name": "ENV",
   "language": "python",
   "name": "python3"
  },
  "language_info": {
   "codemirror_mode": {
    "name": "ipython",
    "version": 3
   },
   "file_extension": ".py",
   "mimetype": "text/x-python",
   "name": "python",
   "nbconvert_exporter": "python",
   "pygments_lexer": "ipython3",
   "version": "3.10.12"
  }
 },
 "nbformat": 4,
 "nbformat_minor": 2
}
