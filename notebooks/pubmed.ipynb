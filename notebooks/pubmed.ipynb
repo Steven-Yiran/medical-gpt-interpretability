{
 "cells": [
  {
   "cell_type": "code",
   "execution_count": 1,
   "metadata": {},
   "outputs": [],
   "source": [
    "import sys\n",
    "sys.path.append('..')"
   ]
  },
  {
   "cell_type": "code",
   "execution_count": 8,
   "metadata": {},
   "outputs": [],
   "source": [
    "import matplotlib.pyplot as plt\n",
    "from transformers import AutoModelForCausalLM, AutoTokenizer\n",
    "import torch\n",
    "import torch.nn.functional as F\n",
    "\n",
    "from dsets import ClinicalAgeGroupDataset"
   ]
  },
  {
   "cell_type": "code",
   "execution_count": 3,
   "metadata": {},
   "outputs": [],
   "source": [
    "model = AutoModelForCausalLM.from_pretrained(\"microsoft/BioGPT-Large-PubMedQA\")\n",
    "tokenizer = AutoTokenizer.from_pretrained(\"microsoft/BioGPT-Large-PubMedQA\")"
   ]
  },
  {
   "cell_type": "code",
   "execution_count": 26,
   "metadata": {},
   "outputs": [
    {
     "name": "stdout",
     "output_type": "stream",
     "text": [
      "Loaded dataset with 93 samples\n"
     ]
    }
   ],
   "source": [
    "dataset = ClinicalAgeGroupDataset('../data')\n",
    "opposite_age_group = {\n",
    "    'infant': 'elderly',\n",
    "    'children': 'adults',\n",
    "    'adult': 'children',\n",
    "    'elderly': 'infant',\n",
    "    'neonate': 'adults',\n",
    "    'adolescent': 'adults',\n",
    "    'newborn': 'adults',\n",
    "}"
   ]
  },
  {
   "cell_type": "code",
   "execution_count": 52,
   "metadata": {},
   "outputs": [],
   "source": [
    "idx = 43\n",
    "data = dataset[idx]\n",
    "age_replacement = opposite_age_group[data['age_group']]\n",
    "corrupted_question = data['question'].replace(data['age_group'], age_replacement)\n",
    "corrupted_context = data['context'].replace(data['age_group'], age_replacement)\n",
    "\n",
    "original_prompt = f\"Question: {data['question']} the answer to the question is\"\n",
    "corrupted_prompt = f\"Question: {corrupted_question} the answer to the question is\""
   ]
  },
  {
   "cell_type": "code",
   "execution_count": 32,
   "metadata": {},
   "outputs": [],
   "source": [
    "def get_answer_prob(prompt, answer):\n",
    "    inputs = tokenizer(prompt, return_tensors=\"pt\", padding=True, truncation=True)\n",
    "    # Forward pass to get the logits\n",
    "    with torch.no_grad():\n",
    "        outputs = model(input_ids=inputs[\"input_ids\"], attention_mask=inputs[\"attention_mask\"])\n",
    "\n",
    "    # Extract logits at the last position (where answer starts)\n",
    "    logits = outputs.logits[0, -1, :]  # Shape: [vocab_size]\n",
    "\n",
    "    # Get token IDs for \"Yes\", \"No\", and \"Maybe\"\n",
    "    yes_token_id = tokenizer(\" Yes\", add_special_tokens=False)[\"input_ids\"][0]\n",
    "    no_token_id = tokenizer(\" No\", add_special_tokens=False)[\"input_ids\"][0]\n",
    "    maybe_token_id = tokenizer(\" Maybe\", add_special_tokens=False)[\"input_ids\"][0]\n",
    "\n",
    "    # Extract logits for the specific tokens\n",
    "    answer_logits = logits[[yes_token_id, no_token_id, maybe_token_id]]\n",
    "    answer_labels = [\"Yes\", \"No\", \"Maybe\"]\n",
    "\n",
    "    # Convert logits to probabilities\n",
    "    answer_probs = F.softmax(answer_logits, dim=0)\n",
    "\n",
    "    if answer == 'yes':\n",
    "        return answer_probs[0].item()\n",
    "    elif answer == 'no':\n",
    "        return answer_probs[1].item()\n",
    "    elif answer == 'maybe':\n",
    "        return answer_probs[2].item()\n",
    "    "
   ]
  },
  {
   "cell_type": "code",
   "execution_count": 33,
   "metadata": {},
   "outputs": [],
   "source": [
    "def plot_answer_plot(before, after, answer):\n",
    "    \"\"\"\n",
    "    Plots the probability of the answer in a bar plot before and after the corruption\n",
    "    for just the answer token\n",
    "    \"\"\"\n",
    "    probs = [get_answer_prob(before, answer), get_answer_prob(after, answer)]\n",
    "    fig, ax = plt.subplots()\n",
    "    # shows the actual probability of the answer in the bar labels\n",
    "    ax.bar(['Before', 'After'], probs)\n",
    "    ax.set_ylabel('Probability')\n",
    "    ax.set_title(f'Probability of \"{answer}\"')\n",
    "    for i, v in enumerate(probs):\n",
    "        ax.text(i, v + 0.01, str(round(v, 3)), ha='center')\n",
    "    plt.show()\n"
   ]
  },
  {
   "cell_type": "code",
   "execution_count": 53,
   "metadata": {},
   "outputs": [
    {
     "data": {
      "image/png": "[encoded data removed]",
      "text/plain": [
       "<Figure size 640x480 with 1 Axes>"
      ]
     },
     "metadata": {},
     "output_type": "display_data"
    }
   ],
   "source": [
    "plot_answer_plot(original_prompt, corrupted_prompt, data['answer'])"
   ]
  },
  {
   "cell_type": "code",
   "execution_count": null,
   "metadata": {},
   "outputs": [],
   "source": []
  }
 ],
 "metadata": {
  "kernelspec": {
   "display_name": "ENV",
   "language": "python",
   "name": "python3"
  },
  "language_info": {
   "codemirror_mode": {
    "name": "ipython",
    "version": 3
   },
   "file_extension": ".py",
   "mimetype": "text/x-python",
   "name": "python",
   "nbconvert_exporter": "python",
   "pygments_lexer": "ipython3",
   "version": "3.10.12"
  }
 },
 "nbformat": 4,
 "nbformat_minor": 2
}
