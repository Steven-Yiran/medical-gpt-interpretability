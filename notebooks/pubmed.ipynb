{
 "cells": [
  {
   "cell_type": "code",
   "execution_count": 1,
   "metadata": {},
   "outputs": [],
   "source": [
    "import sys\n",
    "sys.path.append('..')"
   ]
  },
  {
   "cell_type": "code",
   "execution_count": 2,
   "metadata": {},
   "outputs": [
    {
     "name": "stderr",
     "output_type": "stream",
     "text": [
      "/home/ubuntu/research-1/medical-gpt-interpretability/ENV/lib/python3.10/site-packages/tqdm/auto.py:21: TqdmWarning: IProgress not found. Please update jupyter and ipywidgets. See https://ipywidgets.readthedocs.io/en/stable/user_install.html\n",
      "  from .autonotebook import tqdm as notebook_tqdm\n"
     ]
    }
   ],
   "source": [
    "import matplotlib.pyplot as plt\n",
    "from transformers import AutoModelForCausalLM, AutoTokenizer\n",
    "import torch\n",
    "import torch.nn.functional as F\n",
    "import json\n",
    "import random\n",
    "import copy\n",
    "\n",
    "from dsets import ClinicalDiseaseDataset, ClinicalMedicineDataset"
   ]
  },
  {
   "cell_type": "code",
   "execution_count": 5,
   "metadata": {},
   "outputs": [],
   "source": [
    "model = AutoModelForCausalLM.from_pretrained(\"microsoft/BioGPT-Large-PubMedQA\")\n",
    "tokenizer = AutoTokenizer.from_pretrained(\"microsoft/BioGPT-Large-PubMedQA\")"
   ]
  },
  {
   "cell_type": "code",
   "execution_count": 6,
   "metadata": {},
   "outputs": [
    {
     "name": "stdout",
     "output_type": "stream",
     "text": [
      "Loaded dataset with 499 samples\n",
      "Loaded dataset with 100 samples\n"
     ]
    }
   ],
   "source": [
    "with_context = False\n",
    "disease_dataset = ClinicalDiseaseDataset('../data')\n",
    "medicine_dataset = ClinicalMedicineDataset('../data')"
   ]
  },
  {
   "cell_type": "code",
   "execution_count": 20,
   "metadata": {},
   "outputs": [
    {
     "data": {
      "text/plain": [
       "({'category': 'Disease',\n",
       "  'subjects': ['programmed cell death'],\n",
       "  'prompt': 'Question: Do mitochondria play a role in remodelling lace plant leaves during programmed cell death? the answer to the question is',\n",
       "  'attribute': 'yes'},\n",
       " {'category': 'Medicine',\n",
       "  'subjects': ['anticoagulation'],\n",
       "  'prompt': 'Question: Therapeutic anticoagulation in the trauma patient: is it safe? the answer to the question is',\n",
       "  'attribute': 'no'})"
      ]
     },
     "execution_count": 20,
     "metadata": {},
     "output_type": "execute_result"
    }
   ],
   "source": [
    "disease_dataset[0], medicine_dataset[0]"
   ]
  },
  {
   "cell_type": "code",
   "execution_count": 8,
   "metadata": {},
   "outputs": [],
   "source": [
    "def get_answer_prob(prompt, answer):\n",
    "    inputs = tokenizer(prompt, return_tensors=\"pt\", padding=True, truncation=True)\n",
    "    # Forward pass to get the logits\n",
    "    with torch.no_grad():\n",
    "        outputs = model(input_ids=inputs[\"input_ids\"], attention_mask=inputs[\"attention_mask\"])\n",
    "\n",
    "    # Extract logits at the last position (where answer starts)\n",
    "    logits = outputs.logits[0, -1, :]  # Shape: [vocab_size]\n",
    "\n",
    "    # Get token IDs for \"Yes\", \"No\", and \"Maybe\"\n",
    "    yes_token_id = tokenizer(\" Yes\", add_special_tokens=False)[\"input_ids\"][0]\n",
    "    no_token_id = tokenizer(\" No\", add_special_tokens=False)[\"input_ids\"][0]\n",
    "    maybe_token_id = tokenizer(\" Maybe\", add_special_tokens=False)[\"input_ids\"][0]\n",
    "\n",
    "    # Extract logits for the specific tokens\n",
    "    answer_logits = logits[[yes_token_id, no_token_id, maybe_token_id]]\n",
    "\n",
    "    # Convert logits to probabilities\n",
    "    answer_probs = F.softmax(answer_logits, dim=0)\n",
    "\n",
    "    if answer == 'yes':\n",
    "        return answer_probs[0].item()\n",
    "    elif answer == 'no':\n",
    "        return answer_probs[1].item()\n",
    "    elif answer == 'maybe':\n",
    "        return answer_probs[2].item()\n",
    "    "
   ]
  },
  {
   "cell_type": "code",
   "execution_count": 23,
   "metadata": {},
   "outputs": [],
   "source": [
    "def make_corrupt_prompt(data):\n",
    "    clean_prompt = data['prompt']\n",
    "    subject_arr = data['subjects']\n",
    "    category = data['category']\n",
    "\n",
    "    if category == 'Disease':\n",
    "        contrast_dataset = medicine_dataset\n",
    "    elif category == 'Medicine':\n",
    "        contrast_dataset = disease_dataset\n",
    "    else:\n",
    "        raise ValueError('Invalid category')\n",
    "    \n",
    "    idx = random.randint(0, len(contrast_dataset) - 1)\n",
    "    replacement_data = contrast_dataset[idx]\n",
    "    new_subject = replacement_data['subjects'][0]\n",
    "    \n",
    "    corrupt_prompt = clean_prompt\n",
    "    for subject in subject_arr:\n",
    "        corrupt_prompt = corrupt_prompt.replace(subject, new_subject)\n",
    "    \n",
    "    return corrupt_prompt"
   ]
  },
  {
   "cell_type": "code",
   "execution_count": 24,
   "metadata": {},
   "outputs": [],
   "source": [
    "def get_all_prob_diffs(category, runs=2):\n",
    "    if category == 'disease':\n",
    "        dataset = disease_dataset\n",
    "    elif category == 'medicine':\n",
    "        dataset = medicine_dataset\n",
    "    else:\n",
    "        raise ValueError('Invalid data type')\n",
    "\n",
    "    prob_diffs = []\n",
    "    for i in range(len(dataset)):\n",
    "        cur_diff = 0.0\n",
    "        for j in range(runs):\n",
    "            data = dataset[i]\n",
    "            clean_prompt = data['prompt']\n",
    "            clean_prob = get_answer_prob(clean_prompt, data['attribute'])\n",
    "\n",
    "            corrupted_prompt = make_corrupt_prompt(data)\n",
    "            corrupted_prob = get_answer_prob(corrupted_prompt, data['attribute'])\n",
    "\n",
    "            cur_diff += clean_prob - corrupted_prob\n",
    "        prob_diffs.append(cur_diff / runs)\n",
    "    return prob_diffs"
   ]
  },
  {
   "cell_type": "code",
   "execution_count": 25,
   "metadata": {},
   "outputs": [
    {
     "name": "stdout",
     "output_type": "stream",
     "text": [
      "Run 1\n"
     ]
    }
   ],
   "source": [
    "num_runs = 1\n",
    "results = []\n",
    "diff_idx_lists = []\n",
    "\n",
    "for i in range(num_runs):\n",
    "    print(f'Run {i+1}')\n",
    "    prob_diffs = get_all_prob_diffs('medicine')\n",
    "    results.append(prob_diffs)"
   ]
  },
  {
   "cell_type": "code",
   "execution_count": 26,
   "metadata": {},
   "outputs": [],
   "source": [
    "def plot_histogram(data, title):\n",
    "    plt.hist(data, bins=20)\n",
    "    plt.title(title)\n",
    "    plt.xlabel('Answer Token Probability Difference')\n",
    "    plt.ylabel('Frequency')\n",
    "    plt.show()"
   ]
  },
  {
   "cell_type": "code",
   "execution_count": 27,
   "metadata": {},
   "outputs": [
    {
     "data": {
      "image/png": "[encoded data removed]",
      "text/plain": [
       "<Figure size 640x480 with 1 Axes>"
      ]
     },
     "metadata": {},
     "output_type": "display_data"
    }
   ],
   "source": [
    "title = 'Difference in answer probability between clean and corrupted prompts'\n",
    "if with_context:\n",
    "    title += ' (with context)'\n",
    "plot_histogram(prob_diffs, title)"
   ]
  },
  {
   "cell_type": "code",
   "execution_count": 13,
   "metadata": {},
   "outputs": [
    {
     "name": "stdout",
     "output_type": "stream",
     "text": [
      "near zero diff idx: [1, 3, 4, 5, 10, 14, 15, 16, 18, 20, 21, 22, 24, 25, 26, 29, 30, 31, 32, 33, 34, 35, 40, 41, 42, 43, 44, 45, 47, 48, 49, 51, 52, 53, 54, 56, 59, 60, 62, 63, 66, 67, 69, 70, 71, 72, 75, 76, 77, 78, 79, 80, 81, 82, 83, 84, 86, 87, 90, 93, 96, 97, 99, 100, 101, 104, 105, 106, 107, 110, 113, 114, 116, 117, 118, 121, 126, 127, 129, 130, 132, 135, 136, 138, 139, 140, 142, 143, 144, 145, 146, 147, 148, 155, 156, 157, 160, 162, 163, 164, 165, 166, 167, 168, 169, 173, 179, 180, 182, 183, 185, 186, 187, 190, 191, 193, 194, 195, 196, 197, 198, 199, 201, 204, 206, 208, 211, 213, 214, 215, 216, 220, 221, 222, 223, 225, 226, 227, 228, 230, 231, 232, 233, 236, 237, 238, 240, 241, 242, 244, 245, 247, 248, 250, 253, 257, 258, 259, 260, 262, 263, 264, 266, 267, 270, 272, 273, 274, 275, 276, 278, 280, 281, 283, 285, 286, 288, 290, 292, 293, 295, 298, 300, 301, 303, 308, 309, 311, 318, 320, 323, 326, 333, 336, 338, 340, 344, 346, 348, 350, 351, 356, 357, 359, 363, 364, 365, 366, 367, 369, 371, 372, 373, 375, 376, 377, 382, 383, 385, 386, 387, 389, 390, 392, 393, 395, 396, 400, 401, 402, 403, 404, 407, 408, 409, 410, 412, 414, 415, 416, 421, 423, 424, 425, 426, 429, 431, 433, 436, 438, 440, 441, 442, 444, 446, 447, 448, 449, 454, 457, 459, 460, 461, 462, 463, 465, 466, 467, 471, 477, 480, 482, 484, 485, 487, 488, 489, 490, 491, 493, 495, 497]\n"
     ]
    }
   ],
   "source": [
    "# get the idx of samples that has near 0 difference\n",
    "near_zero_diff_idx_first_run = [i for i, diff in enumerate(prob_diffs) if abs(diff) < 0.1]\n",
    "print('near zero diff idx:', near_zero_diff_idx_first_run)"
   ]
  },
  {
   "cell_type": "code",
   "execution_count": 16,
   "metadata": {},
   "outputs": [
    {
     "name": "stdout",
     "output_type": "stream",
     "text": [
      "170 samples have near zero difference in all runs\n"
     ]
    }
   ],
   "source": [
    "# check overlaped idx between runs\n",
    "common = set(diff_idx_lists[0])\n",
    "for i in range(1, num_runs):\n",
    "    common = common.intersection(diff_idx_lists[i])\n",
    "print(len(common), 'samples have near zero difference in all runs')\n"
   ]
  },
  {
   "cell_type": "code",
   "execution_count": 18,
   "metadata": {},
   "outputs": [],
   "source": [
    "# save the common idx as a list of json, create a new file if not exist\n",
    "with open('common_idx.json', 'w') as f:\n",
    "    json.dump(list(common), f)\n"
   ]
  },
  {
   "cell_type": "code",
   "execution_count": null,
   "metadata": {},
   "outputs": [],
   "source": []
  }
 ],
 "metadata": {
  "kernelspec": {
   "display_name": "ENV",
   "language": "python",
   "name": "python3"
  },
  "language_info": {
   "codemirror_mode": {
    "name": "ipython",
    "version": 3
   },
   "file_extension": ".py",
   "mimetype": "text/x-python",
   "name": "python",
   "nbconvert_exporter": "python",
   "pygments_lexer": "ipython3",
   "version": "3.10.12"
  }
 },
 "nbformat": 4,
 "nbformat_minor": 2
}
