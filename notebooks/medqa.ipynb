{
 "cells": [
  {
   "cell_type": "code",
   "execution_count": 8,
   "metadata": {},
   "outputs": [],
   "source": [
    "from datasets import load_dataset\n",
    "import re\n",
    "import json"
   ]
  },
  {
   "cell_type": "code",
   "execution_count": 2,
   "metadata": {},
   "outputs": [],
   "source": [
    "dataset = load_dataset(\"GBaker/MedQA-USMLE-4-options-hf\", split=\"test\")"
   ]
  },
  {
   "cell_type": "markdown",
   "metadata": {},
   "source": [
    "## Patient Gender"
   ]
  },
  {
   "cell_type": "code",
   "execution_count": 9,
   "metadata": {},
   "outputs": [],
   "source": [
    "# Define subject-related keywords and pronouns\n",
    "gender_keywords = {\n",
    "    \"man\": \"male\",\n",
    "    \"woman\": \"female\",\n",
    "    \"male\": \"male\",\n",
    "    \"female\": \"female\",\n",
    "    \"boy\": \"male\",\n",
    "    \"girl\": \"female\",\n",
    "}\n",
    "pronoun_map = {\n",
    "    \"male\": {\"he\": \"she\", \"his\": \"her\", \"him\": \"her\"},\n",
    "    \"female\": {\"she\": \"he\", \"her\": \"his\", \"hers\": \"his\"},\n",
    "}\n",
    "\n",
    "# Function to extract the subject keyword and determine gender\n",
    "def extract_gender(question):\n",
    "    # Use regex to find gender-related keywords\n",
    "    pattern = r'\\b(?:' + '|'.join(gender_keywords.keys()) + r')\\b'\n",
    "    match = re.search(pattern, question.lower())\n",
    "    if match:\n",
    "        return gender_keywords[match.group().lower()]\n",
    "        \n",
    "    # If no direct gender keyword found, look for gender-specific pronouns\n",
    "    he_pattern = r'\\b(?:he|his|him)\\b'\n",
    "    she_pattern = r'\\b(?:she|her|hers)\\b'\n",
    "    \n",
    "    he_matches = len(re.findall(he_pattern, question.lower()))\n",
    "    she_matches = len(re.findall(she_pattern, question.lower()))\n",
    "    \n",
    "    if he_matches > she_matches:\n",
    "        return \"male\"\n",
    "    elif she_matches > he_matches:\n",
    "        return \"female\"\n",
    "        \n",
    "    return None  # Return None if no gender indicators found\n",
    "\n",
    "# Function to replace pronouns based on gender\n",
    "def replace_pronouns(question, original_gender, target_gender):\n",
    "    pronouns = pronoun_map[original_gender]\n",
    "    for orig_pronoun, target_pronoun in pronouns.items():\n",
    "        question = re.sub(r'\\b' + re.escape(orig_pronoun) + r'\\b', target_pronoun, question, flags=re.IGNORECASE)\n",
    "    return question\n",
    "\n",
    "def match_patient_info_pattern(question):\n",
    "    \"\"\"\n",
    "    Match entries that start with pattern 'A' + age + noun (e.g., \"A 22-year-old female\")\n",
    "    Returns the matched pattern if found, None otherwise\n",
    "    \"\"\"\n",
    "    # Pattern to match: \n",
    "    # - Starts with 'A' or 'An'\n",
    "    # - Followed by space and number\n",
    "    # - Followed by variations of 'year old', 'year-old', etc\n",
    "    # - Followed by a noun (man/woman/male/female/patient etc)\n",
    "    # - OR followed by adjective(s) and then a noun (overweight woman)\n",
    "    pattern = r'^[Aa]n?\\s+(\\d+)[-\\s](?:year|yr)[-\\s]?old\\s+(?:\\w+\\s+)?\\w+'\n",
    "    \n",
    "    match = re.search(pattern, question.strip())\n",
    "    if match:\n",
    "        return match.group()\n",
    "    return None\n"
   ]
  },
  {
   "cell_type": "code",
   "execution_count": 18,
   "metadata": {},
   "outputs": [],
   "source": [
    "# Initialize the new dataset\n",
    "gender_biased_data = []\n",
    "\n",
    "# Process each entry in the dataset\n",
    "for entry in dataset:\n",
    "    # Extract fields\n",
    "    question = entry['sent1']\n",
    "    options = [entry['ending0'], entry['ending1'], entry['ending2'], entry['ending3']]\n",
    "    label = entry['label']\n",
    "    original_id = entry['id']\n",
    "\n",
    "    subject = match_patient_info_pattern(question)\n",
    "    if subject is None:\n",
    "        continue\n",
    "            \n",
    "    # Add to the new dataset\n",
    "    gender_biased_data.append({\n",
    "        \"ID\": original_id,\n",
    "        \"Original Question\": question,\n",
    "        \"Original Options\": options,\n",
    "        \"Subject\": subject,\n",
    "        \"Label\": label\n",
    "    })"
   ]
  },
  {
   "cell_type": "code",
   "execution_count": 19,
   "metadata": {},
   "outputs": [
    {
     "data": {
      "text/plain": [
       "1046"
      ]
     },
     "execution_count": 19,
     "metadata": {},
     "output_type": "execute_result"
    }
   ],
   "source": [
    "len(gender_biased_data)"
   ]
  },
  {
   "cell_type": "code",
   "execution_count": 21,
   "metadata": {},
   "outputs": [
    {
     "name": "stdout",
     "output_type": "stream",
     "text": [
      "Demographic biased dataset saved as 'gender_biased_data.json'.\n"
     ]
    }
   ],
   "source": [
    "# Save the dataset to JSON\n",
    "with open(\"gender_biased_data.json\", \"w\") as json_file:\n",
    "    json.dump(gender_biased_data, json_file, indent=4)\n",
    "\n",
    "print(\"Demographic biased dataset saved as 'gender_biased_data.json'.\")"
   ]
  },
  {
   "cell_type": "markdown",
   "metadata": {},
   "source": [
    "## Demographic"
   ]
  },
  {
   "cell_type": "code",
   "execution_count": 3,
   "metadata": {},
   "outputs": [],
   "source": [
    "\n",
    "white_keywords = [\"white\", \"caucasian\"]\n",
    "black_keywords = [\"black\", \"african american\"]\n",
    "asian_keywords = [\"asian\"]\n",
    "hispanic_keywords = [\"hispanic\", \"latino\"]\n",
    "demographic_keywords = white_keywords + black_keywords + asian_keywords + hispanic_keywords\n",
    "\n",
    "gender_specific_keywords = [\"mother\", \"pregnant\", \"father\"]"
   ]
  },
  {
   "cell_type": "code",
   "execution_count": 4,
   "metadata": {},
   "outputs": [],
   "source": [
    "def contains_keywords(text, keywords):\n",
    "    return any(re.search(rf\"\\b{keyword}\\b\", text, re.IGNORECASE) for keyword in keywords)"
   ]
  },
  {
   "cell_type": "code",
   "execution_count": 5,
   "metadata": {},
   "outputs": [
    {
     "name": "stdout",
     "output_type": "stream",
     "text": [
      "Total: 1273\n",
      "Black: 18\n",
      "White: 42\n",
      "Asian: 2\n",
      "Hispanic: 1\n"
     ]
    }
   ],
   "source": [
    "black_count = 0\n",
    "white_count = 0\n",
    "asian_count = 0\n",
    "hispanic_count = 0\n",
    "\n",
    "for entry in dataset:\n",
    "    question = entry[\"sent1\"]\n",
    "    \n",
    "    if contains_keywords(question, black_keywords):\n",
    "        black_count += 1\n",
    "    elif contains_keywords(question, white_keywords):\n",
    "        white_count += 1\n",
    "    elif contains_keywords(question, asian_keywords):\n",
    "        asian_count += 1\n",
    "    elif contains_keywords(question, hispanic_keywords):\n",
    "        hispanic_count += 1\n",
    "\n",
    "print(f\"Total: {len(dataset)}\")\n",
    "print(f\"Black: {black_count}\")\n",
    "print(f\"White: {white_count}\")\n",
    "print(f\"Asian: {asian_count}\")\n",
    "print(f\"Hispanic: {hispanic_count}\")"
   ]
  }
 ],
 "metadata": {
  "kernelspec": {
   "display_name": "ENV",
   "language": "python",
   "name": "python3"
  },
  "language_info": {
   "codemirror_mode": {
    "name": "ipython",
    "version": 3
   },
   "file_extension": ".py",
   "mimetype": "text/x-python",
   "name": "python",
   "nbconvert_exporter": "python",
   "pygments_lexer": "ipython3",
   "version": "3.11.7"
  }
 },
 "nbformat": 4,
 "nbformat_minor": 2
}
