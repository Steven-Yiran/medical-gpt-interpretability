{
 "cells": [
  {
   "cell_type": "code",
   "execution_count": 4,
   "metadata": {},
   "outputs": [],
   "source": [
    "import json\n",
    "\n",
    "from filter import PatientInfoFilter"
   ]
  },
  {
   "cell_type": "code",
   "execution_count": 2,
   "metadata": {},
   "outputs": [
    {
     "name": "stdout",
     "output_type": "stream",
     "text": [
      "1046\n"
     ]
    }
   ],
   "source": [
    "baseline_path = \"patient_info_medqa.json\"\n",
    "\n",
    "with open(baseline_path, 'r') as f:\n",
    "    data = json.load(f)\n",
    "\n",
    "print(len(data))\n"
   ]
  },
  {
   "cell_type": "code",
   "execution_count": 3,
   "metadata": {},
   "outputs": [],
   "source": [
    "class MedQAItem:\n",
    "    def __init__(self, id, question, choices, gold):\n",
    "        self.id = id\n",
    "        self.question = question\n",
    "        self.choices = choices\n",
    "        self.gold = gold\n",
    "\n",
    "    def to_dict(self):\n",
    "        return {\n",
    "            \"id\": self.id,\n",
    "            \"sent1\": self.question,\n",
    "            \"ending0\": self.choices[0],\n",
    "            \"ending1\": self.choices[1],\n",
    "            \"ending2\": self.choices[2],\n",
    "            \"ending3\": self.choices[3],\n",
    "            \"label\": self.gold\n",
    "        }\n"
   ]
  },
  {
   "cell_type": "code",
   "execution_count": 8,
   "metadata": {},
   "outputs": [],
   "source": [
    "pronoun_map = {\n",
    "    \"male\": {\"he\": \"she\", \"his\": \"her\", \"him\": \"her\"},\n",
    "    \"female\": {\"she\": \"he\", \"her\": \"his\", \"hers\": \"his\"},\n",
    "}\n",
    "def flip_gender(question, ori_gender):\n",
    "    question = question.lower()\n",
    "    if ori_gender == \"male\":\n",
    "        question = question.replace(\"man\", \"woman\")\n",
    "        question = question.replace(\"male\", \"female\")\n",
    "    else:\n",
    "        question = question.replace(\"woman\", \"man\")\n",
    "        question = question.replace(\"female\", \"male\")\n",
    "    replace_map = pronoun_map[ori_gender]\n",
    "    for old, new in replace_map.items():\n",
    "        question = question.replace(old, new)\n",
    "    return question\n",
    "        \n"
   ]
  },
  {
   "cell_type": "code",
   "execution_count": 13,
   "metadata": {},
   "outputs": [],
   "source": [
    "male_patient_medqa = []\n",
    "female_patient_medqa = []\n",
    "patient_info_filter = PatientInfoFilter()\n",
    "\n",
    "for item in data:\n",
    "    patient_info = patient_info_filter.filter_text(item[\"Original Question\"])\n",
    "    gender = None\n",
    "    if patient_info:\n",
    "        matched_text = patient_info.group(0).lower()\n",
    "        if \"woman\" in matched_text:\n",
    "            gender = \"female\"\n",
    "        elif \"man\" in matched_text:\n",
    "            gender = \"male\"\n",
    "\n",
    "    if not gender:\n",
    "        continue\n",
    "\n",
    "    if gender == \"male\":\n",
    "        male_patient_medqa.append(MedQAItem(item[\"ID\"], item[\"Original Question\"], item[\"Original Options\"], item[\"Label\"]).to_dict())\n",
    "        female_patient_medqa.append(MedQAItem(item[\"ID\"], flip_gender(item[\"Original Question\"], \"male\"), item[\"Original Options\"], item[\"Label\"]).to_dict())\n",
    "    else:\n",
    "        female_patient_medqa.append(MedQAItem(item[\"ID\"], item[\"Original Question\"], item[\"Original Options\"], item[\"Label\"]).to_dict())\n",
    "        male_patient_medqa.append(MedQAItem(item[\"ID\"], flip_gender(item[\"Original Question\"], \"female\"), item[\"Original Options\"], item[\"Label\"]).to_dict())\n"
   ]
  },
  {
   "cell_type": "code",
   "execution_count": 14,
   "metadata": {},
   "outputs": [
    {
     "name": "stdout",
     "output_type": "stream",
     "text": [
      "697\n",
      "697\n"
     ]
    }
   ],
   "source": [
    "male_medqa_out_path = \"male_medqa.json\"\n",
    "female_medqa_out_path = \"female_medqa.json\"\n",
    "\n",
    "with open(male_medqa_out_path, \"w\") as f:\n",
    "    json.dump(male_patient_medqa, f)\n",
    "\n",
    "with open(female_medqa_out_path, \"w\") as f:\n",
    "    json.dump(female_patient_medqa, f)\n",
    "\n",
    "print(len(male_patient_medqa))\n",
    "print(len(female_patient_medqa))"
   ]
  },
  {
   "cell_type": "code",
   "execution_count": null,
   "metadata": {},
   "outputs": [],
   "source": []
  }
 ],
 "metadata": {
  "kernelspec": {
   "display_name": "ENV",
   "language": "python",
   "name": "python3"
  },
  "language_info": {
   "codemirror_mode": {
    "name": "ipython",
    "version": 3
   },
   "file_extension": ".py",
   "mimetype": "text/x-python",
   "name": "python",
   "nbconvert_exporter": "python",
   "pygments_lexer": "ipython3",
   "version": "3.11.7"
  }
 },
 "nbformat": 4,
 "nbformat_minor": 2
}
