{
 "cells": [
  {
   "cell_type": "code",
   "execution_count": 4,
   "metadata": {},
   "outputs": [],
   "source": [
    "import re\n",
    "import json\n",
    "import os\n",
    "import sys\n",
    "import random\n",
    "import numpy as np\n",
    "import torch\n",
    "\n",
    "from IPython.display import display, Markdown\n",
    "\n",
    "from transformers import AutoTokenizer\n",
    "from datasets import load_dataset\n",
    "\n",
    "from patching import *\n",
    "from prompts import *\n",
    "from plotting import *"
   ]
  },
  {
   "cell_type": "code",
   "execution_count": 2,
   "metadata": {},
   "outputs": [],
   "source": [
    "model_name = \"meerkat-7b-v1.0\"\n",
    "model_tag = \"dmis-lab/meerkat-7b-v1.0\"\n",
    "#model_name = \"Mistral-7B-Instruct-v0.2\"\n",
    "#model_tag = \"mistralai/Mistral-7B-Instruct-v0.2\"\n",
    "dataset_name = \"medqa-official\"\n",
    "num_layers = 32\n",
    "tokenizer = AutoTokenizer.from_pretrained(model_tag)\n",
    "\n",
    "if dataset_name == \"medqa-official\":\n",
    "    baseline_data = load_dataset(\"GBaker/MedQA-USMLE-4-options-hf\", split=\"test\")\n",
    "else:\n",
    "    with open(f\"../data/{model_name}_{dataset_name}_results.json\", \"r\") as f:\n",
    "        baseline_data = json.load(f)"
   ]
  },
  {
   "cell_type": "code",
   "execution_count": 10,
   "metadata": {},
   "outputs": [
    {
     "data": {
      "text/plain": [
       "([1, 28705, 28770, 28787, 28733, 4395, 28733, 738, 676],\n",
       " [1, 28705, 28770, 28783, 28733, 4395, 28733, 738],\n",
       " [1, 28705, 28770, 28787],\n",
       " [1, 387, 4395, 28733, 738])"
      ]
     },
     "execution_count": 10,
     "metadata": {},
     "output_type": "execute_result"
    }
   ],
   "source": [
    "man_token_id = tokenizer.encode(' man')[-1]\n",
    "boy_token_id = tokenizer.encode(' boy')[-1]\n",
    "woman_token_id = tokenizer.encode(' woman')[-1]\n",
    "man_token_id, woman_token_id\n",
    "# age token ids\n",
    "age_token_ids = [28733, 4395, 28733, 738]\n",
    "age_token_len = 3 + len(age_token_ids)\n",
    "patient_token_len = 1 + age_token_len\n",
    "tokenizer.encode('37-year-old man'), tokenizer.encode('38-year-old'), tokenizer.encode('37'), tokenizer.encode('-year-old')"
   ]
  },
  {
   "cell_type": "code",
   "execution_count": 5,
   "metadata": {},
   "outputs": [],
   "source": [
    "def compose_medqa_prompt(entry):\n",
    "    question = entry[\"sent1\"]\n",
    "    choices = {\n",
    "        \"choice_A\": entry[\"ending0\"],\n",
    "        \"choice_B\": entry[\"ending1\"],\n",
    "        \"choice_C\": entry[\"ending2\"],\n",
    "        \"choice_D\": entry[\"ending3\"]\n",
    "    }\n",
    "\n",
    "    content = prompt_eval_with_bracket.format(question=question, **choices)\n",
    "    baseline_prompt = meerkat_medqa_system_prompt_direct + content\n",
    "    return baseline_prompt"
   ]
  },
  {
   "cell_type": "code",
   "execution_count": 11,
   "metadata": {},
   "outputs": [
    {
     "data": {
      "text/markdown": [
       "First occurrence of 'man'/'woman': Token 'man' at index 69"
      ],
      "text/plain": [
       "<IPython.core.display.Markdown object>"
      ]
     },
     "metadata": {},
     "output_type": "display_data"
    },
    {
     "data": {
      "text/markdown": [
       "First occurrence of 'man'/'woman': Token 'man' at index 69"
      ],
      "text/plain": [
       "<IPython.core.display.Markdown object>"
      ]
     },
     "metadata": {},
     "output_type": "display_data"
    },
    {
     "data": {
      "text/markdown": [
       "First occurrence of 'man'/'woman': Token 'man' at index 69"
      ],
      "text/plain": [
       "<IPython.core.display.Markdown object>"
      ]
     },
     "metadata": {},
     "output_type": "display_data"
    },
    {
     "data": {
      "text/markdown": [
       "First occurrence of 'man'/'woman': Token 'man' at index 69"
      ],
      "text/plain": [
       "<IPython.core.display.Markdown object>"
      ]
     },
     "metadata": {},
     "output_type": "display_data"
    },
    {
     "data": {
      "text/markdown": [
       "First occurrence of 'man'/'woman': Token 'woman' at index 73"
      ],
      "text/plain": [
       "<IPython.core.display.Markdown object>"
      ]
     },
     "metadata": {},
     "output_type": "display_data"
    },
    {
     "data": {
      "text/markdown": [
       "First occurrence of 'man'/'woman': Token 'man' at index 69"
      ],
      "text/plain": [
       "<IPython.core.display.Markdown object>"
      ]
     },
     "metadata": {},
     "output_type": "display_data"
    },
    {
     "data": {
      "text/markdown": [
       "First occurrence of 'man'/'woman': Token 'man' at index 69"
      ],
      "text/plain": [
       "<IPython.core.display.Markdown object>"
      ]
     },
     "metadata": {},
     "output_type": "display_data"
    },
    {
     "data": {
      "text/markdown": [
       "First occurrence of 'man'/'woman': Token 'man' at index 179"
      ],
      "text/plain": [
       "<IPython.core.display.Markdown object>"
      ]
     },
     "metadata": {},
     "output_type": "display_data"
    },
    {
     "data": {
      "text/markdown": [
       "The following is a multiple-choice question about medical knowledge. Output a single option from the given options as the final answer. You are strongly required to follow the specified output format; state your response with the phrase \"the answer is ([option_id]) [answer_string]\".\n",
       "\n",
       "A microbiologist is studying the emergence of a virulent strain of the virus. After a detailed study of the virus and its life cycle, he proposes a theory: Initially, a host cell is co-infected with 2 viruses from the same virus family. Within the host cell, concomitant production of various genome segments from both viruses occurs. Ultimately, the different genome segments from the viruses are packaged into a unique and novel virus particle. The newly formed virus particle is both stable and viable and is a new strain from the virus family that caused the outbreak of infection. Which of the following viruses is capable of undergoing the above-mentioned process? (A) Epstein-Barr virus (B) Human immunodeficiency virus (C) Rotavirus (D) Vaccinia virus The answer is ("
      ],
      "text/plain": [
       "<IPython.core.display.Markdown object>"
      ]
     },
     "metadata": {},
     "output_type": "display_data"
    },
    {
     "data": {
      "text/markdown": [
       "First occurrence of 'man'/'woman': Token 'man' at index 68"
      ],
      "text/plain": [
       "<IPython.core.display.Markdown object>"
      ]
     },
     "metadata": {},
     "output_type": "display_data"
    },
    {
     "data": {
      "text/markdown": [
       "First occurrence of 'man'/'woman': Token 'man' at index 68"
      ],
      "text/plain": [
       "<IPython.core.display.Markdown object>"
      ]
     },
     "metadata": {},
     "output_type": "display_data"
    },
    {
     "data": {
      "text/markdown": [
       "First occurrence of 'man'/'woman': Token 'man' at index 69"
      ],
      "text/plain": [
       "<IPython.core.display.Markdown object>"
      ]
     },
     "metadata": {},
     "output_type": "display_data"
    }
   ],
   "source": [
    "# find the index of the token \"man\" or \"woman\" in the tokenized data entries\n",
    "# need to be avaliable in the ../results folder\n",
    "sample_ids = [1, 4, 5, 7, 10, 11, 12, 13, 14, 16, 17, 18]\n",
    "sample_ids_with_patient_info = []\n",
    "idx_range = []\n",
    "\n",
    "for i in sample_ids:\n",
    "    prompt = compose_medqa_prompt(baseline_data[i])\n",
    "    \n",
    "    inputs = tokenizer.encode(prompt, return_tensors=\"pt\")\n",
    "\n",
    "    # Search for the first occurrence of either token\n",
    "    first_gender_idx = None\n",
    "    gender_token = None\n",
    "    \n",
    "    for idx, token_id in enumerate(inputs[0]):\n",
    "        if token_id == man_token_id:\n",
    "            first_gender_idx = idx\n",
    "            gender_token = \"man\"\n",
    "            break\n",
    "        elif token_id == boy_token_id:\n",
    "            first_gender_idx = idx\n",
    "            gender_token = \"man\"\n",
    "            break\n",
    "        elif token_id == woman_token_id:\n",
    "            first_gender_idx = idx\n",
    "            gender_token = \"woman\"\n",
    "            break\n",
    "    \n",
    "    if first_gender_idx is not None:\n",
    "        display(Markdown(f\"First occurrence of 'man'/'woman': Token '{gender_token}' at index {first_gender_idx}\"))\n",
    "        # check if the gender token has age token before it\n",
    "        if inputs[0][first_gender_idx-len(age_token_ids):first_gender_idx].numpy().tolist() == age_token_ids:\n",
    "            sample_ids_with_patient_info.append(i)\n",
    "            if first_gender_idx - patient_token_len < 0:\n",
    "                print(\"incomplete patient info\")\n",
    "                continue\n",
    "            idx_range.append((first_gender_idx - patient_token_len, first_gender_idx))\n",
    "    else:\n",
    "        display(Markdown(prompt))\n",
    "    "
   ]
  },
  {
   "cell_type": "markdown",
   "metadata": {},
   "source": [
    "## Plots Demo"
   ]
  },
  {
   "cell_type": "code",
   "execution_count": 14,
   "metadata": {},
   "outputs": [
    {
     "name": "stdout",
     "output_type": "stream",
     "text": [
      "tensor(0.) tensor(1.) tensor(0.3366)\n",
      "tensor(0.) tensor(1.) tensor(0.5463)\n",
      "tensor(0.) tensor(1.) tensor(0.5853)\n",
      "tensor(0.) tensor(1.) tensor(0.5501)\n",
      "tensor(0.) tensor(1.) tensor(0.3326)\n",
      "tensor(0.) tensor(1.) tensor(0.5534)\n",
      "tensor(0.) tensor(1.) tensor(0.3551)\n",
      "tensor(-0.) tensor(1.) tensor(0.3417)\n"
     ]
    }
   ],
   "source": [
    "num_categories = 5\n",
    "avg_patching_results = torch.zeros((num_layers, num_categories))\n",
    "\n",
    "categories = [\n",
    "    \"<a>\",\n",
    "    \"patient age tokens\",\n",
    "    \"patient gender token <man/woman>\",\n",
    "    \"first subsequent token\",\n",
    "    \"further tokens\",\n",
    "    \"last token\"\n",
    "]\n",
    "\n",
    "aggregated_differences = []\n",
    "# store average patching results for each category into avg_patching_results\n",
    "for i, id in enumerate(sample_ids_with_patient_info):\n",
    "    category_indices = {cat: [] for cat in categories}\n",
    "    filepath = f\"../results/patching_results_{id}.pt\"\n",
    "\n",
    "    if os.path.exists(filepath):\n",
    "        patching_results = torch.load(filepath, map_location=torch.device(\"cpu\"))\n",
    "        print(patching_results.min(), patching_results.max(), patching_results.mean())\n",
    "    else:\n",
    "        print(f\"File {filepath} does not exist\")\n",
    "        continue\n",
    "\n",
    "    patching_results = patching_results.T # shape: (n_positions, n_layers)\n",
    "    num_tokens = patching_results.shape[0]\n",
    "    last_idx = num_tokens - 1\n",
    "    ps, pe = idx_range[i]\n",
    "\n",
    "    category_indices[\"<a>\"].append(ps)\n",
    "\n",
    "    for j in range(ps, pe):\n",
    "        category_indices[\"patient age tokens\"].append(j)\n",
    "\n",
    "    category_indices[\"patient gender token <man/woman>\"].append(pe)\n",
    "    category_indices[\"first subsequent token\"].append(pe+1)\n",
    "\n",
    "    for j in range(pe+1, last_idx):\n",
    "        category_indices[\"further tokens\"].append(j)\n",
    "\n",
    "    category_indices[\"last token\"].append(last_idx)\n",
    "\n",
    "    # Aggregate patching results by category\n",
    "    sample_aggregated = []\n",
    "    for cat in categories:\n",
    "        indices = category_indices[cat]\n",
    "        if indices:\n",
    "            # Average the patching results for tokens in this category\n",
    "            sample_aggregated.append(torch.mean(patching_results[indices], dim=0))\n",
    "        else:\n",
    "            # Use zeros if no tokens in this category\n",
    "            sample_aggregated.append(torch.zeros(patching_results.shape[1]))\n",
    "    \n",
    "    # Stack the aggregated differences for this sample\n",
    "    sample_aggregated = torch.stack(sample_aggregated)\n",
    "    aggregated_differences.append(sample_aggregated)\n",
    "\n",
    "# Average across all samples\n",
    "aggregated_differences = torch.mean(torch.stack(aggregated_differences), dim=0).cpu().numpy()"
   ]
  },
  {
   "cell_type": "code",
   "execution_count": 15,
   "metadata": {},
   "outputs": [
    {
     "data": {
      "image/png": "[encoded data removed]",
      "text/plain": [
       "<Figure size 640x600 with 2 Axes>"
      ]
     },
     "metadata": {},
     "output_type": "display_data"
    }
   ],
   "source": [
    "# Get min score for colormap\n",
    "low_score = aggregated_differences.min()\n",
    "module_kind = None\n",
    "\n",
    "# Set up plot dimensions\n",
    "num_categories = len(categories)\n",
    "num_layers = 32\n",
    "plot_height = 3 # Adjusted for fewer rows\n",
    "plot_width = num_layers / 10\n",
    "\n",
    "# Create the plot\n",
    "with plt.rc_context():\n",
    "    fig, ax = plt.subplots(figsize=(plot_width, plot_height), dpi=200)\n",
    "    h = ax.pcolor(\n",
    "        aggregated_differences,\n",
    "        cmap={None: \"Purples\", \"None\": \"Purples\", \"mlp\": \"Greens\", \"attn\": \"Reds\"}[\n",
    "            module_kind\n",
    "        ],\n",
    "        vmin=low_score,\n",
    "    )\n",
    "    ax.invert_yaxis()\n",
    "    ax.set_yticks([0.5 + i for i in range(num_categories)])\n",
    "    ax.set_xticks([0.5 + i for i in range(0, num_layers - 6, 5)])\n",
    "    ax.set_xticklabels(list(range(0, num_layers - 6, 5)))\n",
    "    ax.set_yticklabels(categories)\n",
    "    \n",
    "    if not module_kind:\n",
    "        ax.set_title(\"Impact of restoring state after corrupted input (By Token Group)\")\n",
    "        ax.set_xlabel(f\"single restored layer within {model_name}\")\n",
    "    else:\n",
    "        ax.set_title(f\"Impact of restoring state after corrupted input ({module_kind}, By Token Group)\")\n",
    "        ax.set_xlabel(f\"center of interval of layers within {module_kind} layers\")\n",
    "\n",
    "    \n",
    "    \n",
    "    cb = plt.colorbar(h)\n",
    "    #if answer is not None:\n",
    "        #cb.ax.set_title(f\"p({str(answer).strip()})\", y=-0.16, fontsize=10)\n",
    "    \n",
    "    plt.show()"
   ]
  },
  {
   "cell_type": "code",
   "execution_count": 39,
   "metadata": {},
   "outputs": [
    {
     "name": "stdout",
     "output_type": "stream",
     "text": [
      "torch.Size([32, 522])\n",
      "Min value: -1.0\n",
      "Max value: 3.5\n",
      "Mean value: 0.025532806292176247\n"
     ]
    }
   ],
   "source": [
    "demo_tensor_path = \"../results/patching_results_4.pt\"\n",
    "# Load the patching results tensor\n",
    "if os.path.exists(demo_tensor_path):\n",
    "    patching_results = torch.load(demo_tensor_path, map_location=torch.device(\"cpu\"))\n",
    "    print(patching_results.shape)\n",
    "    \n",
    "    # Example: Display some basic statistics about the tensor\n",
    "    print(f\"Min value: {patching_results.min().item()}\")\n",
    "    print(f\"Max value: {patching_results.max().item()}\")\n",
    "    print(f\"Mean value: {patching_results.mean().item()}\")\n",
    "    \n",
    "    # Optionally visualize the tensor (if it's a 2D tensor suitable for heatmap)\n",
    "    # Load the corresponding tokens for visualization\n",
    "    # This assumes you have the tokens saved or can reconstruct them\n",
    "    # For demonstration, we'll create dummy tokens\n",
    "    dummy_tokens = torch.ones((1, patching_results.shape[1]), dtype=torch.long)\n",
    "    \n",
    "    # Plot the patching heatmap\n",
    "    plot_patching_heatmap(\n",
    "        patching_results,\n",
    "        dummy_tokens,\n",
    "        tokenizer,\n",
    "        answer=\"A\",  # Replace with actual answer if available\n",
    "        filepath=\"../results/demo_patching_heatmap.pdf\"\n",
    "    )\n",
    "\n",
    "    plot_average_patching_heatmap(\n",
    "        patching_results,\n",
    "        0,\n",
    "        26,\n",
    "        filepath=f\"../results/average_patching_heatmap.pdf\"\n",
    "    )\n"
   ]
  },
  {
   "cell_type": "markdown",
   "metadata": {},
   "source": [
    "## Tokenizer Experiment"
   ]
  },
  {
   "cell_type": "code",
   "execution_count": 6,
   "metadata": {},
   "outputs": [],
   "source": [
    "model_name = \"dmis-lab/meerkat-7b-v1.0\"\n",
    "tokenizer = AutoTokenizer.from_pretrained(model_name)\n",
    "\n",
    "with open(\"../data/meerkat-7b-v1.0_medqa-original_results.json\", \"r\") as f:\n",
    "    baseline_data = json.load(f)\n",
    "\n",
    "max_tokens = 1000"
   ]
  },
  {
   "cell_type": "code",
   "execution_count": 7,
   "metadata": {},
   "outputs": [
    {
     "data": {
      "text/markdown": [
       "The following is a multiple-choice question about medical knowledge. Solve this in a step-by-step fashion, starting by summarizing the available information. Output a single option from the given options as the final answer. You are strongly required to follow the specified output format; conclude your response with the phrase \"the answer is ([option_id]) [answer_string]\".\n",
       "\n",
       "USER: A 23-year-old woman comes to the physician because she is embarrassed about the appearance of her nails. She has no history of serious illness and takes no medications. She appears well. A photograph of the nails is shown. Which of the following additional findings is most likely in this patient? (A) Silvery plaques on extensor surfaces (B) Flesh-colored papules in the lumbosacral region (C) Erosions of the dental enamel (D) Holosystolic murmur at the left lower sternal border ASSISTANT: \n",
       "\n",
       "The prompt does not provide an image, but based on the context of the question which is about the appearance of the patient's nails, and the fact that she is embarrassed by it, we can infer that the patient might be presenting with a cosmetic or dermatological issue with her nails. We are to choose the most likely additional finding among the four options provided.\n",
       "\n",
       "(A) Silvery plaques on extensor surfaces: This finding is suggestive of psoriasis, which can present with nail changes such as pitting or onycholysis (separation of the nail from the nail bed). Psoriasis also causes silvery plaques, typically on the extensor surfaces such as elbows and knees, which could be consistent with a cosmetic concern the patient might have.\n",
       "\n",
       "(B) Flesh-colored papules in the lumbosacral region: This description is consistent with conditions like warts (human papillomavirus infection), which can be found anywhere on the body but are more typical in areas of skin contact. They are less likely to be related to abnormalities of the nails.\n",
       "\n",
       "(C) Erosions of the dental enamel: This could be found with conditions such as bulimia or acid reflux, where the teeth might be eroded due to repeated exposure to stomach acid. However, there is nothing in the question stem to suggest that this patient has a history of a condition that would cause dental enamel erosion.\n",
       "\n",
       "(D) Holosystolic murmur at the left lower sternal border: A holosystolic murmur is related to a heart condition, like ventricular septal defect or mitral regurgitation. While heart murmurs can be associated with various systemic conditions, there is no direct link provided in the question between the patient’s nail appearance and a heart murmur.\n",
       "\n",
       "Based on the information given and the process of elimination, the most likely additional finding that could be associated with a cosmetic concern about the nails is (A) Silvery plaques on extensor surfaces, which could be a sign of psoriasis and might be accompanied by nail changes. Therefore, the answer is (A) Silvery plaques on extensor surfaces.</s>"
      ],
      "text/plain": [
       "<IPython.core.display.Markdown object>"
      ]
     },
     "metadata": {},
     "output_type": "display_data"
    }
   ],
   "source": [
    "id = 5\n",
    "prompt = baseline_data[id][\"generated_response\"]\n",
    "display(Markdown(prompt))"
   ]
  },
  {
   "cell_type": "code",
   "execution_count": 8,
   "metadata": {},
   "outputs": [
    {
     "data": {
      "text/markdown": [
       " \n",
       "\n",
       "The prompt does not provide an image, but based on the context of the question which is about the appearance of the patient's nails, and the fact that she is embarrassed by it, we can infer that the patient might be presenting with a cosmetic or dermatological issue with her nails. We are to choose the most likely additional finding among the four options provided.\n",
       "\n",
       "(A) Silvery plaques on extensor surfaces: This finding is suggestive of psoriasis, which can present with nail changes such as pitting or onycholysis (separation of the nail from the nail bed). Psoriasis also causes silvery plaques, typically on the extensor surfaces such as elbows and knees, which could be consistent with a cosmetic concern the patient might have.\n",
       "\n",
       "(B) Flesh-colored papules in the lumbosacral region: This description is consistent with conditions like warts (human papillomavirus infection), which can be found anywhere on the body but are more typical in areas of skin contact. They are less likely to be related to abnormalities of the nails.\n",
       "\n",
       "(C) Erosions of the dental enamel: This could be found with conditions such as bulimia or acid reflux, where the teeth might be eroded due to repeated exposure to stomach acid. However, there is nothing in the question stem to suggest that this patient has a history of a condition that would cause dental enamel erosion.\n",
       "\n",
       "(D) Holosystolic murmur at the left lower sternal border: A holosystolic murmur is related to a heart condition, like ventricular septal defect or mitral regurgitation. While heart murmurs can be associated with various systemic conditions, there is no direct link provided in the question between the patient’s nail appearance and a heart murmur.\n",
       "\n",
       "Based on the information given and the process of elimination, the most likely additional finding that could be associated with a cosmetic concern about the nails is (A) Silvery plaques on extensor surfaces, which could be a sign of psoriasis and might be accompanied by nail changes. Therefore, the answer is ("
      ],
      "text/plain": [
       "<IPython.core.display.Markdown object>"
      ]
     },
     "metadata": {},
     "output_type": "display_data"
    }
   ],
   "source": [
    "prompt = setup_prompt(prompt)\n",
    "display(Markdown(prompt))"
   ]
  },
  {
   "cell_type": "code",
   "execution_count": 9,
   "metadata": {},
   "outputs": [
    {
     "data": {
      "text/markdown": [
       " \n",
       "\n",
       "The prompt does not provide an image, but based on the context of the question which is about the appearance of the patient's nails, and the fact that he is embarrassed by it, we can infer that the patient might be presenting with a cosmetic or dermatological issue with his nails. We are to choose the most likely additional finding among the four options provided.\n",
       "\n",
       "(A) Silvery plaques on extensor surfaces: This finding is suggestive of psoriasis, which can present with nail changes such as pitting or onycholysis (separation of the nail from the nail bed). Psoriasis also causes silvery plaques, typically on the extensor surfaces such as elbows and knees, which could be consistent with a cosmetic concern the patient might have.\n",
       "\n",
       "(B) Flesh-colored papules in the lumbosacral region: This description is consistent with conditions like warts (human papillomavirus infection), which can be found anywhere on the body but are more typical in areas of skin contact. They are less likely to be related to abnormalities of the nails.\n",
       "\n",
       "(C) Erosions of the dental enamel: This could be found with conditions such as bulimia or acid reflux, where the teeth might be eroded due to repeated exposure to stomach acid. However, there is nothing in the question stem to suggest that this patient has a history of a condition that would cause dental enamel erosion.\n",
       "\n",
       "(D) Holosystolic murmur at the left lower sternal border: A holosystolic murmur is related to a heart condition, like ventricular septal defect or mitral regurgitation. While heart murmurs can be associated with various systemic conditions, there is no direct link provided in the question between the patient’s nail appearance and a heart murmur.\n",
       "\n",
       "Based on the information given and the process of elimination, the most likely additional finding that could be associated with a cosmetic concern about the nails is (A) Silvery plaques on extensor surfaces, which could be a sign of psoriasis and might be accompanied by nail changes. Therefore, the answer is ("
      ],
      "text/plain": [
       "<IPython.core.display.Markdown object>"
      ]
     },
     "metadata": {},
     "output_type": "display_data"
    }
   ],
   "source": [
    "patient_gender_filter = PatientInfoFilter()\n",
    "patient_gender = patient_gender_filter.extract_gender(prompt)\n",
    "counterfactual_prompt = generate_counterfactual_patient_info(prompt, patient_gender)\n",
    "display(Markdown(counterfactual_prompt))"
   ]
  },
  {
   "cell_type": "code",
   "execution_count": 7,
   "metadata": {},
   "outputs": [
    {
     "name": "stdout",
     "output_type": "stream",
     "text": [
      "397\n",
      "397\n"
     ]
    }
   ],
   "source": [
    "clean_tokens = tokenizer.encode(prompt, return_tensors=\"pt\")\n",
    "corrupted_tokens = tokenizer.encode(counterfactual_prompt, return_tensors=\"pt\")\n",
    "\n",
    "print(len(clean_tokens[0]))\n",
    "print(len(corrupted_tokens[0]))"
   ]
  },
  {
   "cell_type": "code",
   "execution_count": 3,
   "metadata": {},
   "outputs": [
    {
     "data": {
      "text/plain": [
       "[2, 2, 2, 2, 2, 2, 2, 2, 2, 2, 2]"
      ]
     },
     "execution_count": 3,
     "metadata": {},
     "output_type": "execute_result"
    }
   ],
   "source": [
    "pronouns = [\"he\", \"his\", \"him\", \"she\", \"her\", \"hers\", \"man\", \"male\", \"woman\", \"female\", \"hers\"]\n",
    "token_lengths = []\n",
    "\n",
    "for pronoun in pronouns:\n",
    "    token_lengths.append(len(tokenizer.encode(pronoun)))\n",
    "\n",
    "token_lengths"
   ]
  },
  {
   "cell_type": "markdown",
   "metadata": {},
   "source": [
    "## Results"
   ]
  },
  {
   "cell_type": "code",
   "execution_count": 2,
   "metadata": {},
   "outputs": [],
   "source": [
    "output_file = \"meerkat-7b-v1.0_results.json\"\n",
    "invalid_file = \"meerkat-7b-v1.0_invalid_ids.json\"\n",
    "\n",
    "with open(output_file, \"r\") as f:\n",
    "    data = json.load(f)\n",
    "\n",
    "with open(invalid_file, \"r\") as f:\n",
    "    invalid_ids = json.load(f)"
   ]
  },
  {
   "cell_type": "code",
   "execution_count": 3,
   "metadata": {},
   "outputs": [
    {
     "name": "stdout",
     "output_type": "stream",
     "text": [
      "id: test-00406\n"
     ]
    },
    {
     "data": {
      "text/markdown": [
       "The following is a multiple-choice question about medical knowledge. Solve this in a step-by-step fashion, starting by summarizing the available information. Output a single option from the given options as the final answer. You are strongly required to follow the specified output format; conclude your response with the phrase \"the answer is ([option_id]) [answer_string]\".\n",
       "\n",
       "USER: A 54-year-old man presents with the acute onset of seizures and hallucinations. The patient’s wife says that he had been on a camping trip a few months earlier to study bats but otherwise has not traveled recently. Past medical history is significant for hypertension, managed medically with hydralazine and enalapril. The patient’s condition rapidly deteriorates, and he passes away. An autopsy is performed and a histologic stained section of the brain is shown in the image. Which of the following receptors are targeted by the pathogen most likely responsible for this patient’s condition? (A) CCR5 (B) Acetylcholine receptor (C) ICAM-1 (D) GABA ASSISTANT: \n",
       "The key pieces of information from the question are as follows: \n",
       "- The patient is a 54-year-old man.\n",
       "- He presented with acute seizures and hallucinations.\n",
       "- He has a history of hypertension.\n",
       "- He went on a camping trip to study bats a few months earlier.\n",
       "- He has not traveled recently.\n",
       "- His condition rapidly deteriorated and he passed away.\n",
       "- An autopsy is performed suggesting a post-mortem diagnosis.\n",
       "\n",
       "Given the history of the patient studying bats and the acute neurological symptoms, a viral etiology is strongly suggested, particularly a rabies virus infection. Rabies is known to be transmitted through bat contact and can cause rapid neurological deterioration.\n",
       "\n",
       "Rabies virus primarily infects neurons and utilizes the nicotinic acetylcholine receptors (nAChR) at the neuromuscular junction as a entry point into the central nervous system. After the virus enters the CNS, it causes encephalitis and the described symptoms.\n",
       "\n",
       "Let's consider the receptor options provided:\n",
       "(A) CCR5 - This is a chemokine receptor used by HIV to enter cells, not relevant to rabies.\n",
       "(B) Acetylcholine receptor - This is the correct receptor targeted by rabies virus.\n",
       "(C) ICAM-1 - This is an intercellular adhesion molecule involved in immune responses, not the primary receptor for rabies virus.\n",
       "(D) GABA - This is a neurotransmitter in the brain, not a receptor targeted by rabies virus.\n",
       "\n",
       "Based on this information and the clinical presentation, the answer is that the pathogen most likely responsible for this patient’s condition targets the acetylcholine receptor. Therefore, the answer is (B) Acetylcholine receptor.</s>"
      ],
      "text/plain": [
       "<IPython.core.display.Markdown object>"
      ]
     },
     "metadata": {},
     "output_type": "display_data"
    }
   ],
   "source": [
    "id = 467\n",
    "output = data[406][\"generated_response\"]\n",
    "actual_id = data[406][\"id\"]\n",
    "print(f\"id: {actual_id}\")\n",
    "display(Markdown(output))"
   ]
  },
  {
   "cell_type": "code",
   "execution_count": 9,
   "metadata": {},
   "outputs": [
    {
     "name": "stdout",
     "output_type": "stream",
     "text": [
      "B\n"
     ]
    }
   ],
   "source": [
    "# extract the answer from the output\n",
    "answer = re.search(r'(?:therefore,\\s*)?the answer is.*?\\(([A-D])\\)', output, re.IGNORECASE)\n",
    "if answer:\n",
    "    print(answer.group(1))\n",
    "else:\n",
    "    print(\"No answer found\")"
   ]
  },
  {
   "cell_type": "code",
   "execution_count": 7,
   "metadata": {},
   "outputs": [
    {
     "data": {
      "text/plain": [
       "737"
      ]
     },
     "execution_count": 7,
     "metadata": {},
     "output_type": "execute_result"
    }
   ],
   "source": [
    "# Let's find all outputs that contain the phrase \"a 54-year-old man\" (case insensitive)\n",
    "pattern = r'a \\d+[-\\s]year[-\\s]old (?:man|woman)'\n",
    "matching_ids = []\n",
    "\n",
    "for item in data:\n",
    "    if re.search(pattern, item[\"generated_response\"], re.IGNORECASE):\n",
    "        matching_ids.append(item[\"id\"])\n",
    "\n",
    "len(matching_ids)\n"
   ]
  },
  {
   "cell_type": "code",
   "execution_count": null,
   "metadata": {},
   "outputs": [],
   "source": []
  }
 ],
 "metadata": {
  "kernelspec": {
   "display_name": "venv",
   "language": "python",
   "name": "python3"
  },
  "language_info": {
   "codemirror_mode": {
    "name": "ipython",
    "version": 3
   },
   "file_extension": ".py",
   "mimetype": "text/x-python",
   "name": "python",
   "nbconvert_exporter": "python",
   "pygments_lexer": "ipython3",
   "version": "3.10.12"
  }
 },
 "nbformat": 4,
 "nbformat_minor": 2
}
