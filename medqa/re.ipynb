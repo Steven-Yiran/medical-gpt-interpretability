{
 "cells": [
  {
   "cell_type": "code",
   "execution_count": 1,
   "metadata": {},
   "outputs": [
    {
     "name": "stderr",
     "output_type": "stream",
     "text": [
      "/home/ubuntu/research/medical-gpt-interpretability/venv/lib/python3.10/site-packages/tqdm/auto.py:21: TqdmWarning: IProgress not found. Please update jupyter and ipywidgets. See https://ipywidgets.readthedocs.io/en/stable/user_install.html\n",
      "  from .autonotebook import tqdm as notebook_tqdm\n"
     ]
    }
   ],
   "source": [
    "import re\n",
    "import json\n",
    "import os\n",
    "import sys\n",
    "import random\n",
    "import numpy as np\n",
    "\n",
    "from IPython.display import display, Markdown\n",
    "\n",
    "from transformers import AutoTokenizer\n",
    "\n",
    "from patching import *"
   ]
  },
  {
   "cell_type": "code",
   "execution_count": 2,
   "metadata": {},
   "outputs": [],
   "source": [
    "model_name = \"dmis-lab/meerkat-7b-v1.0\"\n",
    "tokenizer = AutoTokenizer.from_pretrained(model_name)\n",
    "\n",
    "with open(\"../data/meerkat-7b-v1.0_medqa-original_results.json\", \"r\") as f:\n",
    "    baseline_data = json.load(f)\n",
    "\n",
    "max_tokens = 1000"
   ]
  },
  {
   "cell_type": "code",
   "execution_count": 3,
   "metadata": {},
   "outputs": [
    {
     "data": {
      "text/markdown": [
       "The following is a multiple-choice question about medical knowledge. Solve this in a step-by-step fashion, starting by summarizing the available information. Output a single option from the given options as the final answer. You are strongly required to follow the specified output format; conclude your response with the phrase \"the answer is ([option_id]) [answer_string]\".\n",
       "\n",
       "USER: A 39-year-old man presents to the emergency department because of progressively worsening chest pain and nausea that started at a local bar 30 minutes prior. The pain radiates to the epigastric area. He has a 5-year history of untreated hypertension. He has smoked 1 pack of cigarettes daily for the past 5 years and started abusing cocaine 2 weeks before his emergency room visit. The patient is diaphoretic and in marked distress. What should be the first step in management? (A) Diltiazem (B) Labetalol (C) Propranolol (D) Reassurance and continuous monitoring ASSISTANT: \n",
       "\n",
       "The presented case describes a 39-year-old man who is experiencing progressively worsening chest pain, nausea, has a history of untreated hypertension, smokes, and has recently started abusing cocaine. The description of his pain radiating to the epigastric area and the association with nausea suggests the possibility of an acute coronary syndrome, a condition that can be precipitated by cocaine abuse due to its effects on the cardiovascular system, including vasospasm and hypertension.\n",
       "\n",
       "Given the acute presentation and the high likelihood that the patient is experiencing a coronary event, the initial management should focus on stabilization, which includes continuous monitoring, assessment for revascularization procedures, and medical management to address the acute coronary syndrome and hypertension.\n",
       "\n",
       "Options A (Diltiazem), B (Labetalol), and C (Propranolol) are beta-blockers and calcium channel blockers which can be used in hypertensive emergencies. However, in the context of acute coronary syndrome, non-selective beta-blockers such as propranolol are not recommended as first-line agents due to potential adverse effects on myocardial contractility and coronary perfusion. Labetalol has both alpha and beta-blocking effects and could be used cautiously. Diltiazem is a calcium channel blocker that can be used to control blood pressure in acute coronary syndromes.\n",
       "\n",
       "Reassurance and continuous monitoring (option D) would be an appropriate first step in the management of this patient to stabilize his condition while preparing for further diagnostic and therapeutic interventions. It is essential to monitor the patient for any changes in his condition that might necessitate immediate action.\n",
       "\n",
       "Therefore, the answer is (D) Reassurance and continuous monitoring.</s>"
      ],
      "text/plain": [
       "<IPython.core.display.Markdown object>"
      ]
     },
     "metadata": {},
     "output_type": "display_data"
    }
   ],
   "source": [
    "id = 3\n",
    "prompt = baseline_data[id][\"generated_response\"]\n",
    "display(Markdown(prompt))"
   ]
  },
  {
   "cell_type": "code",
   "execution_count": 4,
   "metadata": {},
   "outputs": [
    {
     "data": {
      "text/markdown": [
       " \n",
       "\n",
       "The presented case describes a 39-year-old man who is experiencing progressively worsening chest pain, nausea, has a history of untreated hypertension, smokes, and has recently started abusing cocaine. The description of his pain radiating to the epigastric area and the association with nausea suggests the possibility of an acute coronary syndrome, a condition that can be precipitated by cocaine abuse due to its effects on the cardiovascular system, including vasospasm and hypertension.\n",
       "\n",
       "Given the acute presentation and the high likelihood that the patient is experiencing a coronary event, the initial management should focus on stabilization, which includes continuous monitoring, assessment for revascularization procedures, and medical management to address the acute coronary syndrome and hypertension.\n",
       "\n",
       "Options A (Diltiazem), B (Labetalol), and C (Propranolol) are beta-blockers and calcium channel blockers which can be used in hypertensive emergencies. However, in the context of acute coronary syndrome, non-selective beta-blockers such as propranolol are not recommended as first-line agents due to potential adverse effects on myocardial contractility and coronary perfusion. Labetalol has both alpha and beta-blocking effects and could be used cautiously. Diltiazem is a calcium channel blocker that can be used to control blood pressure in acute coronary syndromes.\n",
       "\n",
       "Reassurance and continuous monitoring (option D) would be an appropriate first step in the management of this patient to stabilize his condition while preparing for further diagnostic and therapeutic interventions. It is essential to monitor the patient for any changes in his condition that might necessitate immediate action.\n",
       "\n",
       "Therefore, the answer is ("
      ],
      "text/plain": [
       "<IPython.core.display.Markdown object>"
      ]
     },
     "metadata": {},
     "output_type": "display_data"
    }
   ],
   "source": [
    "prompt = setup_prompt(prompt)\n",
    "display(Markdown(prompt))"
   ]
  },
  {
   "cell_type": "code",
   "execution_count": 6,
   "metadata": {},
   "outputs": [
    {
     "data": {
      "text/markdown": [
       " \n",
       "\n",
       "The presented case describes a 39-year-old woman who is experiencing progressively worsening chest pain, nausea, has a history of untreated hypertension, smokes, and has recently started abusing cocaine. The description of her pain radiating to the epigastric area and the association with nausea suggests the possibility of an acute coronary syndrome, a condition that can be precipitated by cocaine abuse due to its effects on the cardiovascular system, including vasospasm and hypertension.\n",
       "\n",
       "Given the acute presentation and the high likelihood that the patient is experiencing a coronary event, the initial management should focus on stabilization, which includes continuous monitoring, assessment for revascularization procedures, and medical management to address the acute coronary syndrome and hypertension.\n",
       "\n",
       "Options A (Diltiazem), B (Labetalol), and C (Propranolol) are beta-blockers and calcium channel blockers which can be used in hypertensive emergencies. However, in the context of acute coronary syndrome, non-selective beta-blockers such as propranolol are not recommended as first-line agents due to potential adverse effects on myocardial contractility and coronary perfusion. Labetalol has both alpha and beta-blocking effects and could be used cautiously. Diltiazem is a calcium channel blocker that can be used to control blood pressure in acute coronary syndromes.\n",
       "\n",
       "Reassurance and continuous monitoring (option D) would be an appropriate first step in the management of this patient to stabilize her condition while preparing for further diagnostic and therapeutic interventions. It is essential to monitor the patient for any changes in her condition that might necessitate immediate action.\n",
       "\n",
       "Therefore, the answer is ("
      ],
      "text/plain": [
       "<IPython.core.display.Markdown object>"
      ]
     },
     "metadata": {},
     "output_type": "display_data"
    }
   ],
   "source": [
    "patient_gender_filter = PatientInfoFilter()\n",
    "patient_gender = patient_gender_filter.extract_gender(prompt)\n",
    "counterfactual_prompt = generate_counterfactual_patient_info(prompt, patient_gender)\n",
    "display(Markdown(counterfactual_prompt))"
   ]
  },
  {
   "cell_type": "code",
   "execution_count": 7,
   "metadata": {},
   "outputs": [
    {
     "name": "stdout",
     "output_type": "stream",
     "text": [
      "397\n",
      "397\n"
     ]
    }
   ],
   "source": [
    "clean_tokens = tokenizer.encode(prompt, return_tensors=\"pt\")\n",
    "corrupted_tokens = tokenizer.encode(counterfactual_prompt, return_tensors=\"pt\")\n",
    "\n",
    "print(len(clean_tokens[0]))\n",
    "print(len(corrupted_tokens[0]))"
   ]
  },
  {
   "cell_type": "code",
   "execution_count": 3,
   "metadata": {},
   "outputs": [
    {
     "data": {
      "text/plain": [
       "[2, 2, 2, 2, 2, 2, 2, 2, 2, 2, 2]"
      ]
     },
     "execution_count": 3,
     "metadata": {},
     "output_type": "execute_result"
    }
   ],
   "source": [
    "pronouns = [\"he\", \"his\", \"him\", \"she\", \"her\", \"hers\", \"man\", \"male\", \"woman\", \"female\", \"hers\"]\n",
    "token_lengths = []\n",
    "\n",
    "for pronoun in pronouns:\n",
    "    token_lengths.append(len(tokenizer.encode(pronoun)))\n",
    "\n",
    "token_lengths"
   ]
  },
  {
   "cell_type": "code",
   "execution_count": 2,
   "metadata": {},
   "outputs": [],
   "source": [
    "output_file = \"meerkat-7b-v1.0_results.json\"\n",
    "invalid_file = \"meerkat-7b-v1.0_invalid_ids.json\"\n",
    "\n",
    "with open(output_file, \"r\") as f:\n",
    "    data = json.load(f)\n",
    "\n",
    "with open(invalid_file, \"r\") as f:\n",
    "    invalid_ids = json.load(f)"
   ]
  },
  {
   "cell_type": "code",
   "execution_count": 3,
   "metadata": {},
   "outputs": [
    {
     "name": "stdout",
     "output_type": "stream",
     "text": [
      "id: test-00406\n"
     ]
    },
    {
     "data": {
      "text/markdown": [
       "The following is a multiple-choice question about medical knowledge. Solve this in a step-by-step fashion, starting by summarizing the available information. Output a single option from the given options as the final answer. You are strongly required to follow the specified output format; conclude your response with the phrase \"the answer is ([option_id]) [answer_string]\".\n",
       "\n",
       "USER: A 54-year-old man presents with the acute onset of seizures and hallucinations. The patient’s wife says that he had been on a camping trip a few months earlier to study bats but otherwise has not traveled recently. Past medical history is significant for hypertension, managed medically with hydralazine and enalapril. The patient’s condition rapidly deteriorates, and he passes away. An autopsy is performed and a histologic stained section of the brain is shown in the image. Which of the following receptors are targeted by the pathogen most likely responsible for this patient’s condition? (A) CCR5 (B) Acetylcholine receptor (C) ICAM-1 (D) GABA ASSISTANT: \n",
       "The key pieces of information from the question are as follows: \n",
       "- The patient is a 54-year-old man.\n",
       "- He presented with acute seizures and hallucinations.\n",
       "- He has a history of hypertension.\n",
       "- He went on a camping trip to study bats a few months earlier.\n",
       "- He has not traveled recently.\n",
       "- His condition rapidly deteriorated and he passed away.\n",
       "- An autopsy is performed suggesting a post-mortem diagnosis.\n",
       "\n",
       "Given the history of the patient studying bats and the acute neurological symptoms, a viral etiology is strongly suggested, particularly a rabies virus infection. Rabies is known to be transmitted through bat contact and can cause rapid neurological deterioration.\n",
       "\n",
       "Rabies virus primarily infects neurons and utilizes the nicotinic acetylcholine receptors (nAChR) at the neuromuscular junction as a entry point into the central nervous system. After the virus enters the CNS, it causes encephalitis and the described symptoms.\n",
       "\n",
       "Let's consider the receptor options provided:\n",
       "(A) CCR5 - This is a chemokine receptor used by HIV to enter cells, not relevant to rabies.\n",
       "(B) Acetylcholine receptor - This is the correct receptor targeted by rabies virus.\n",
       "(C) ICAM-1 - This is an intercellular adhesion molecule involved in immune responses, not the primary receptor for rabies virus.\n",
       "(D) GABA - This is a neurotransmitter in the brain, not a receptor targeted by rabies virus.\n",
       "\n",
       "Based on this information and the clinical presentation, the answer is that the pathogen most likely responsible for this patient’s condition targets the acetylcholine receptor. Therefore, the answer is (B) Acetylcholine receptor.</s>"
      ],
      "text/plain": [
       "<IPython.core.display.Markdown object>"
      ]
     },
     "metadata": {},
     "output_type": "display_data"
    }
   ],
   "source": [
    "id = 467\n",
    "output = data[406][\"generated_response\"]\n",
    "actual_id = data[406][\"id\"]\n",
    "print(f\"id: {actual_id}\")\n",
    "display(Markdown(output))"
   ]
  },
  {
   "cell_type": "code",
   "execution_count": 9,
   "metadata": {},
   "outputs": [
    {
     "name": "stdout",
     "output_type": "stream",
     "text": [
      "B\n"
     ]
    }
   ],
   "source": [
    "# extract the answer from the output\n",
    "answer = re.search(r'(?:therefore,\\s*)?the answer is.*?\\(([A-D])\\)', output, re.IGNORECASE)\n",
    "if answer:\n",
    "    print(answer.group(1))\n",
    "else:\n",
    "    print(\"No answer found\")"
   ]
  },
  {
   "cell_type": "code",
   "execution_count": 7,
   "metadata": {},
   "outputs": [
    {
     "data": {
      "text/plain": [
       "737"
      ]
     },
     "execution_count": 7,
     "metadata": {},
     "output_type": "execute_result"
    }
   ],
   "source": [
    "# Let's find all outputs that contain the phrase \"a 54-year-old man\" (case insensitive)\n",
    "pattern = r'a \\d+[-\\s]year[-\\s]old (?:man|woman)'\n",
    "matching_ids = []\n",
    "\n",
    "for item in data:\n",
    "    if re.search(pattern, item[\"generated_response\"], re.IGNORECASE):\n",
    "        matching_ids.append(item[\"id\"])\n",
    "\n",
    "len(matching_ids)\n"
   ]
  },
  {
   "cell_type": "code",
   "execution_count": null,
   "metadata": {},
   "outputs": [],
   "source": []
  }
 ],
 "metadata": {
  "kernelspec": {
   "display_name": "venv",
   "language": "python",
   "name": "python3"
  },
  "language_info": {
   "codemirror_mode": {
    "name": "ipython",
    "version": 3
   },
   "file_extension": ".py",
   "mimetype": "text/x-python",
   "name": "python",
   "nbconvert_exporter": "python",
   "pygments_lexer": "ipython3",
   "version": "3.10.12"
  }
 },
 "nbformat": 4,
 "nbformat_minor": 2
}
