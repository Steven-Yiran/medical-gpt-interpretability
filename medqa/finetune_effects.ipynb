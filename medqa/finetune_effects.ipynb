{
 "cells": [
  {
   "cell_type": "code",
   "execution_count": 8,
   "metadata": {},
   "outputs": [],
   "source": [
    "import json\n",
    "import re\n",
    "\n",
    "from utils import MultiChoiceFilter"
   ]
  },
  {
   "cell_type": "code",
   "execution_count": 15,
   "metadata": {},
   "outputs": [],
   "source": [
    "class MedQAPrediction:\n",
    "    def __init__(self, id: str, gold: int, generated_response: str):\n",
    "        self.id = id\n",
    "        self.gold = chr(gold + ord('A'))\n",
    "        self.generated_response = generated_response\n",
    "\n",
    "        assert self.gold in ['A', 'B', 'C', 'D']\n",
    "\n",
    "        self.filter = MultiChoiceFilter()\n",
    "        self.pred_label, _ = self.filter.extract_answer(self.generated_response)\n",
    "\n",
    "    def __str__(self):\n",
    "        return f\"MedQAPrediction(id={self.id}, gold={self.gold}), pred_label={self.pred_label})\"\n",
    "\n"
   ]
  },
  {
   "cell_type": "code",
   "execution_count": 13,
   "metadata": {},
   "outputs": [
    {
     "name": "stdout",
     "output_type": "stream",
     "text": [
      "1273\n",
      "1273\n"
     ]
    }
   ],
   "source": [
    "baseline_result_path = \"../data/mistral-7B-Instruct-v0.2_medqa-official_results.json\"\n",
    "finetuned_result_path = \"../data/meerkat-7b-v1.0_medqa-official_results.json\"\n",
    "\n",
    "with open(baseline_result_path, \"r\") as f:\n",
    "    baseline_results = json.load(f)\n",
    "\n",
    "with open(finetuned_result_path, \"r\") as f:\n",
    "    finetuned_results = json.load(f)\n",
    "\n",
    "print(len(baseline_results))\n",
    "print(len(finetuned_results))"
   ]
  },
  {
   "cell_type": "code",
   "execution_count": 26,
   "metadata": {},
   "outputs": [
    {
     "name": "stdout",
     "output_type": "stream",
     "text": [
      "139\n"
     ]
    }
   ],
   "source": [
    "mismatch_ids = []\n",
    "\n",
    "for i in range(len(baseline_results)):\n",
    "    baseline_pred = MedQAPrediction(\n",
    "        id=baseline_results[i][\"id\"],\n",
    "        gold=baseline_results[i][\"gold\"],\n",
    "        generated_response=baseline_results[i][\"generated_response\"]\n",
    "    )\n",
    "    finetuned_pred = MedQAPrediction(\n",
    "        id=finetuned_results[i][\"id\"],\n",
    "        gold=finetuned_results[i][\"gold\"],\n",
    "        generated_response=finetuned_results[i][\"generated_response\"]\n",
    "    )\n",
    "\n",
    "    assert baseline_pred.id == finetuned_pred.id\n",
    "\n",
    "    # finetuned model is correct and baseline model is incorrect\n",
    "    if ((finetuned_pred.pred_label != finetuned_pred.gold) and \n",
    "        (baseline_pred.pred_label == baseline_pred.gold)):\n",
    "        mismatch_ids.append(baseline_pred.id)\n",
    "\n",
    "print(len(mismatch_ids))"
   ]
  },
  {
   "cell_type": "code",
   "execution_count": 22,
   "metadata": {},
   "outputs": [
    {
     "name": "stdout",
     "output_type": "stream",
     "text": [
      "['test-00001']\n"
     ]
    }
   ],
   "source": [
    "print(mismatch_ids)"
   ]
  },
  {
   "cell_type": "code",
   "execution_count": 25,
   "metadata": {},
   "outputs": [],
   "source": [
    "mismatch_ids_path = \"../data/medqa_official_mismatch_ids.json\"\n",
    "\n",
    "with open(mismatch_ids_path, \"w\") as f:\n",
    "    json.dump(mismatch_ids, f)\n"
   ]
  },
  {
   "cell_type": "code",
   "execution_count": null,
   "metadata": {},
   "outputs": [],
   "source": []
  }
 ],
 "metadata": {
  "kernelspec": {
   "display_name": "ENV",
   "language": "python",
   "name": "python3"
  },
  "language_info": {
   "codemirror_mode": {
    "name": "ipython",
    "version": 3
   },
   "file_extension": ".py",
   "mimetype": "text/x-python",
   "name": "python",
   "nbconvert_exporter": "python",
   "pygments_lexer": "ipython3",
   "version": "3.11.7"
  }
 },
 "nbformat": 4,
 "nbformat_minor": 2
}
